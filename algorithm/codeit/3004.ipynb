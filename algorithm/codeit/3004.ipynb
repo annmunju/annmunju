{
 "cells": [
  {
   "cell_type": "code",
   "execution_count": 32,
   "metadata": {},
   "outputs": [],
   "source": [
    "n = int(input())\n",
    "\n",
    "ls = list(map(int, input().split()))\n",
    "lsn = [0 for _ in range(n)]"
   ]
  },
  {
   "cell_type": "code",
   "execution_count": 33,
   "metadata": {},
   "outputs": [
    {
     "data": {
      "text/plain": [
       "[1]"
      ]
     },
     "execution_count": 33,
     "metadata": {},
     "output_type": "execute_result"
    }
   ],
   "source": [
    "ls"
   ]
  },
  {
   "cell_type": "code",
   "execution_count": 34,
   "metadata": {},
   "outputs": [
    {
     "data": {
      "text/plain": [
       "[0]"
      ]
     },
     "execution_count": 34,
     "metadata": {},
     "output_type": "execute_result"
    }
   ],
   "source": [
    "lsn"
   ]
  },
  {
   "cell_type": "code",
   "execution_count": 31,
   "metadata": {},
   "outputs": [
    {
     "name": "stdout",
     "output_type": "stream",
     "text": [
      "[5, 130, 195, 20, 35, 120, 190, 105, 75, 150, 170, 0, 175, 80, 60, 95, 40, 115, 10, 15, 180, 50, 85, 45, 30, 145, 65, 155, 55, 70, 160, 135, 110, 165, 140, 90, 25, 100, 185, 125]\n",
      "time: 0.0002219676971435547\n"
     ]
    }
   ],
   "source": [
    "import time\n",
    "start_time = time.time()\n",
    "\n",
    "x = 0\n",
    "while x != n-1 :\n",
    "    for i in range(x+1,n):\n",
    "        if ls[x] > ls[i]:\n",
    "            lsn[x] += 1\n",
    "        elif ls[x] < ls[i]:\n",
    "            lsn[i] += 1\n",
    "    x += 1\n",
    "\n",
    "print(lsn)\n",
    "end_time = time.time()\n",
    "print(\"time:\", end_time - start_time)"
   ]
  },
  {
   "cell_type": "code",
   "execution_count": 23,
   "metadata": {},
   "outputs": [
    {
     "name": "stdout",
     "output_type": "stream",
     "text": [
      "2 0 3 1 4 "
     ]
    }
   ],
   "source": [
    "for l in lsn:\n",
    "    print(l, end=' ')"
   ]
  },
  {
   "cell_type": "code",
   "execution_count": null,
   "metadata": {},
   "outputs": [],
   "source": [
    "40\n",
    "14983 374485 477099 84506 147100 346293 470594 330208 209884 399981 416234 6782 428611 213447 186277 259563 152230 339500 57113 75222 445485 174971 215354 153425 118141 388328 202139 400394 180496 205894 411002 378602 334654 415078 381231 221364 116440 296215 464977 351854 "
   ]
  }
 ],
 "metadata": {
  "interpreter": {
   "hash": "b0fa6594d8f4cbf19f97940f81e996739fb7646882a419484c72d19e05852a7e"
  },
  "kernelspec": {
   "display_name": "Python 3.9.7 64-bit",
   "language": "python",
   "name": "python3"
  },
  "language_info": {
   "codemirror_mode": {
    "name": "ipython",
    "version": 3
   },
   "file_extension": ".py",
   "mimetype": "text/x-python",
   "name": "python",
   "nbconvert_exporter": "python",
   "pygments_lexer": "ipython3",
   "version": "3.9.7"
  },
  "orig_nbformat": 4
 },
 "nbformat": 4,
 "nbformat_minor": 2
}
