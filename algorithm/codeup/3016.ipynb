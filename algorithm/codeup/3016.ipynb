{
 "cells": [
  {
   "cell_type": "code",
   "execution_count": 1,
   "metadata": {},
   "outputs": [],
   "source": [
    "n = int(input())"
   ]
  },
  {
   "cell_type": "code",
   "execution_count": 4,
   "metadata": {},
   "outputs": [],
   "source": [
    "stu = [0 for _ in range(n)]\n",
    "for cnt in range(n):\n",
    "    name, score1, score2, score3 = input().split()\n",
    "    stu[cnt] = (name, int(score1), int(score2), int(score3))"
   ]
  },
  {
   "cell_type": "code",
   "execution_count": 59,
   "metadata": {},
   "outputs": [
    {
     "data": {
      "text/plain": [
       "[('Jeon', 95, 80, 100),\n",
       " ('Bae', 100, 82, 80),\n",
       " ('Lee', 90, 100, 75),\n",
       " ('Kim', 59, 85, 75)]"
      ]
     },
     "execution_count": 59,
     "metadata": {},
     "output_type": "execute_result"
    }
   ],
   "source": [
    "stu"
   ]
  },
  {
   "cell_type": "code",
   "execution_count": 60,
   "metadata": {},
   "outputs": [],
   "source": [
    "stuMax = sorted(stu, key=lambda x: x[1], reverse=True)[0][0]"
   ]
  },
  {
   "cell_type": "code",
   "execution_count": 61,
   "metadata": {},
   "outputs": [],
   "source": [
    "stu.sort(key=lambda x: x[2], reverse=True)\n",
    "cnt2 = 0\n",
    "for i in range(n):\n",
    "    cnt2 += 1\n",
    "    if stu[i][0] == stuMax:\n",
    "        break"
   ]
  },
  {
   "cell_type": "code",
   "execution_count": 62,
   "metadata": {},
   "outputs": [],
   "source": [
    "stu.sort(key=lambda x: x[3], reverse=True)\n",
    "cnt3 = 0\n",
    "for i in range(n):\n",
    "    cnt3 += 1\n",
    "    if stu[i][0] == stuMax:\n",
    "        break"
   ]
  },
  {
   "cell_type": "code",
   "execution_count": 63,
   "metadata": {},
   "outputs": [
    {
     "name": "stdout",
     "output_type": "stream",
     "text": [
      "Bae 3 2\n"
     ]
    }
   ],
   "source": [
    "print(stuMax, cnt2, cnt3)"
   ]
  },
  {
   "cell_type": "code",
   "execution_count": 67,
   "metadata": {},
   "outputs": [
    {
     "name": "stdout",
     "output_type": "stream",
     "text": [
      "Bae 4 4\n"
     ]
    }
   ],
   "source": [
    "n = int(input())\n",
    "\n",
    "stu = [0 for _ in range(n)]\n",
    "for cnt in range(n):\n",
    "    name, score1, score2, score3 = input().split()\n",
    "    stu[cnt] = (name, int(score1), int(score2), int(score3))\n",
    "    \n",
    "stuMax = sorted(stu, key=lambda x: x[1], reverse=True)[0][0]\n",
    "\n",
    "stu.sort(key=lambda x: x[2], reverse=True)\n",
    "\n",
    "cnt2 = 1\n",
    "for i in range(n):\n",
    "    if stu[i][0] == stuMax:\n",
    "        break\n",
    "    cnt2 += 1\n",
    "\n",
    "stu.sort(key=lambda x: x[3], reverse=True)\n",
    "\n",
    "cnt3 = 1\n",
    "for i in range(n):\n",
    "    if stu[i][0] == stuMax:\n",
    "        break\n",
    "    cnt3 += 1\n",
    "    \n",
    "print(stuMax, cnt2, cnt3)    \n"
   ]
  },
  {
   "cell_type": "code",
   "execution_count": null,
   "metadata": {},
   "outputs": [],
   "source": []
  }
 ],
 "metadata": {
  "interpreter": {
   "hash": "b0fa6594d8f4cbf19f97940f81e996739fb7646882a419484c72d19e05852a7e"
  },
  "kernelspec": {
   "display_name": "Python 3.9.7 64-bit",
   "language": "python",
   "name": "python3"
  },
  "language_info": {
   "codemirror_mode": {
    "name": "ipython",
    "version": 3
   },
   "file_extension": ".py",
   "mimetype": "text/x-python",
   "name": "python",
   "nbconvert_exporter": "python",
   "pygments_lexer": "ipython3",
   "version": "3.9.7"
  },
  "orig_nbformat": 4
 },
 "nbformat": 4,
 "nbformat_minor": 2
}
