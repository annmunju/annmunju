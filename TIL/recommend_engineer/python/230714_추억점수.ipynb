{
  "nbformat": 4,
  "nbformat_minor": 0,
  "metadata": {
    "colab": {
      "provenance": []
    },
    "kernelspec": {
      "name": "python3",
      "display_name": "Python 3"
    },
    "language_info": {
      "name": "python"
    }
  },
  "cells": [
    {
      "cell_type": "markdown",
      "source": [
        "# 추억 점수\n",
        "\n",
        "사진들을 보며 추억에 젖어 있던 루는 사진별로 추억 점수를 매길려고 합니다. 사진 속에 나오는 인물의 그리움 점수를 모두 합산한 값이 해당 사진의 추억 점수가 됩니다. 예를 들어 사진 속 인물의 이름이 [\"may\", \"kein\", \"kain\"]이고 각 인물의 그리움 점수가 [5점, 10점, 1점]일 때 해당 사진의 추억 점수는 16(5 + 10 + 1)점이 됩니다. 다른 사진 속 인물의 이름이 [\"kali\", \"mari\", \"don\", \"tony\"]이고 [\"kali\", \"mari\", \"don\"]의 그리움 점수가 각각 [11점, 1점, 55점]]이고, \"tony\"는 그리움 점수가 없을 때, 이 사진의 추억 점수는 3명의 그리움 점수를 합한 67(11 + 1 + 55)점입니다.\n",
        "\n",
        "그리워하는 사람의 이름을 담은 문자열 배열 name, 각 사람별 그리움 점수를 담은 정수 배열 yearning, 각 사진에 찍힌 인물의 이름을 담은 이차원 문자열 배열 photo가 매개변수로 주어질 때, 사진들의 추억 점수를 photo에 주어진 순서대로 배열에 담아 return하는 solution 함수를 완성해주세요.\n",
        "\n",
        "\n",
        "(문제 링크)[https://school.programmers.co.kr/learn/courses/30/lessons/176963]"
      ],
      "metadata": {
        "id": "O-CZsYR67OAp"
      }
    },
    {
      "cell_type": "code",
      "execution_count": 17,
      "metadata": {
        "id": "l_7FgJqr7IBg"
      },
      "outputs": [],
      "source": [
        "def solution(name, yearning, photo):\n",
        "    memory_dict = {n:y for n,y in zip(name, yearning)}\n",
        "    answer = []\n",
        "    for ph in photo:\n",
        "      score = 0\n",
        "      for p in ph:\n",
        "        if p in name:\n",
        "          score += memory_dict[p]\n",
        "      answer.append(score)\n",
        "    return answer"
      ]
    },
    {
      "cell_type": "code",
      "source": [
        "name = [\"may\", \"kein\", \"kain\", \"radi\"]\n",
        "yearning = [5, 10, 1, 3]\n",
        "photo = [[\"may\"],[\"kein\", \"deny\", \"may\"], [\"kon\", \"coni\"]]"
      ],
      "metadata": {
        "id": "QdXFoA6u7oIc"
      },
      "execution_count": 18,
      "outputs": []
    },
    {
      "cell_type": "code",
      "source": [
        "solution(name, yearning, photo)"
      ],
      "metadata": {
        "colab": {
          "base_uri": "https://localhost:8080/"
        },
        "id": "O2W3yQwn7saz",
        "outputId": "362c8bde-b23c-4835-8f7f-24487bcb42f9"
      },
      "execution_count": 19,
      "outputs": [
        {
          "output_type": "execute_result",
          "data": {
            "text/plain": [
              "[5, 15, 0]"
            ]
          },
          "metadata": {},
          "execution_count": 19
        }
      ]
    },
    {
      "cell_type": "code",
      "source": [],
      "metadata": {
        "id": "VttcB_6E9LbU"
      },
      "execution_count": null,
      "outputs": []
    }
  ]
}