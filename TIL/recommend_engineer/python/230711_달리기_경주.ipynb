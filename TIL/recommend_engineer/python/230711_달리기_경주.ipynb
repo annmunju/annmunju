{
  "nbformat": 4,
  "nbformat_minor": 0,
  "metadata": {
    "colab": {
      "provenance": []
    },
    "kernelspec": {
      "name": "python3",
      "display_name": "Python 3"
    },
    "language_info": {
      "name": "python"
    }
  },
  "cells": [
    {
      "cell_type": "markdown",
      "source": [
        "# 달리기 경주\n",
        "\n",
        "얀에서는 매년 달리기 경주가 열립니다. 해설진들은 선수들이 자기 바로 앞의 선수를 추월할 때 추월한 선수의 이름을 부릅니다. 예를 들어 1등부터 3등까지 \"mumu\", \"soe\", \"poe\" 선수들이 순서대로 달리고 있을 때, 해설진이 \"soe\"선수를 불렀다면 2등인 \"soe\" 선수가 1등인 \"mumu\" 선수를 추월했다는 것입니다. 즉 \"soe\" 선수가 1등, \"mumu\" 선수가 2등으로 바뀝니다.\n",
        "\n",
        "선수들의 이름이 1등부터 현재 등수 순서대로 담긴 문자열 배열 players와 해설진이 부른 이름을 담은 문자열 배열 callings가 매개변수로 주어질 때, 경주가 끝났을 때 선수들의 이름을 1등부터 등수 순서대로 배열에 담아 return 하는 solution 함수를 완성해주세요.\n",
        "\n",
        "[문제 링크](https://school.programmers.co.kr/learn/courses/30/lessons/178871)"
      ],
      "metadata": {
        "id": "HX28MeXOI4mu"
      }
    },
    {
      "cell_type": "markdown",
      "source": [
        "## 1차 시도"
      ],
      "metadata": {
        "id": "intDJxbGQOvj"
      }
    },
    {
      "cell_type": "code",
      "source": [
        "players = [\"mumu\", \"soe\", \"poe\", \"kai\", \"mine\"]"
      ],
      "metadata": {
        "id": "DhnWfrWtJG18"
      },
      "execution_count": 19,
      "outputs": []
    },
    {
      "cell_type": "code",
      "source": [
        "callings = [\"kai\", \"kai\", \"mine\", \"mine\"]"
      ],
      "metadata": {
        "id": "0PqUpER0JM5d"
      },
      "execution_count": 20,
      "outputs": []
    },
    {
      "cell_type": "code",
      "source": [
        "for call in callings:\n",
        "  idx = players.index(call)\n",
        "  name = players.pop(idx)\n",
        "  players.insert(idx-1, name)"
      ],
      "metadata": {
        "id": "3pELX_fmJQY2"
      },
      "execution_count": 14,
      "outputs": []
    },
    {
      "cell_type": "code",
      "source": [
        "players"
      ],
      "metadata": {
        "colab": {
          "base_uri": "https://localhost:8080/"
        },
        "id": "VcU9JG6AQTva",
        "outputId": "23f75bdf-54ea-4855-9921-7d03c2ee2e8b"
      },
      "execution_count": 18,
      "outputs": [
        {
          "output_type": "execute_result",
          "data": {
            "text/plain": [
              "['mumu', 'soe', 'kai', 'mine', 'poe']"
            ]
          },
          "metadata": {},
          "execution_count": 18
        }
      ]
    },
    {
      "cell_type": "code",
      "execution_count": 16,
      "metadata": {
        "id": "NOx4NR1nGIJk"
      },
      "outputs": [],
      "source": [
        "def solution(players, callings):\n",
        "    for call in callings:\n",
        "        idx = players.index(call)\n",
        "        name = players.pop(idx)\n",
        "        players.insert(idx-1, name)\n",
        "    answer = players\n",
        "    return answer"
      ]
    },
    {
      "cell_type": "code",
      "source": [
        "players = [\"mumu\", \"soe\", \"poe\", \"kai\", \"mine\"]\n",
        "callings = [\"kai\", \"kai\", \"mine\", \"mine\"]\n",
        "\n",
        "solution(players, callings)"
      ],
      "metadata": {
        "colab": {
          "base_uri": "https://localhost:8080/"
        },
        "id": "A06m4jOTJUoJ",
        "outputId": "258bf16a-efa7-4381-cfde-7bf4f3c587db"
      },
      "execution_count": 17,
      "outputs": [
        {
          "output_type": "execute_result",
          "data": {
            "text/plain": [
              "['mumu', 'soe', 'kai', 'mine', 'poe']"
            ]
          },
          "metadata": {},
          "execution_count": 17
        }
      ]
    },
    {
      "cell_type": "markdown",
      "source": [
        "- 실패 (시간초과)\n",
        "- 순차적으로 다 돌아간다는 문제가 있음"
      ],
      "metadata": {
        "id": "H0fl3hx9QV9z"
      }
    },
    {
      "cell_type": "markdown",
      "source": [
        "## 2차 시도"
      ],
      "metadata": {
        "id": "a8OZ8m92QcLp"
      }
    },
    {
      "cell_type": "code",
      "source": [
        "players = [\"mumu\", \"soe\", \"poe\", \"kai\", \"mine\"]\n",
        "callings = [\"kai\", \"kai\", \"mine\", \"mine\"]"
      ],
      "metadata": {
        "id": "WxlN6YP3O4Jd"
      },
      "execution_count": 21,
      "outputs": []
    },
    {
      "cell_type": "code",
      "source": [
        "players_called = [(call, callings.count(call)) for call in set(callings)]"
      ],
      "metadata": {
        "id": "LjFGydeIQi8f"
      },
      "execution_count": 25,
      "outputs": []
    },
    {
      "cell_type": "code",
      "source": [
        "for pc in players_called:\n",
        "    idx = players.index(pc[0])\n",
        "    name = players.pop(idx)\n",
        "    players.insert(idx-pc[1], pc[0])"
      ],
      "metadata": {
        "id": "ER0CVYxVQx0-"
      },
      "execution_count": 29,
      "outputs": []
    },
    {
      "cell_type": "code",
      "source": [
        "players"
      ],
      "metadata": {
        "colab": {
          "base_uri": "https://localhost:8080/"
        },
        "id": "TDIc4rrRRKbo",
        "outputId": "43fe88d8-7cab-4ac4-c067-5da11cd09176"
      },
      "execution_count": 30,
      "outputs": [
        {
          "output_type": "execute_result",
          "data": {
            "text/plain": [
              "['mumu', 'kai', 'mine', 'soe', 'poe']"
            ]
          },
          "metadata": {},
          "execution_count": 30
        }
      ]
    },
    {
      "cell_type": "code",
      "source": [
        "def solution(players, callings):\n",
        "    players_called = [(call, callings.count(call)) for call in set(callings)]\n",
        "    for pc in players_called:\n",
        "        idx = players.index(pc[0])\n",
        "        name = players.pop(idx)\n",
        "        players.insert(idx-pc[1], pc[0])\n",
        "    answer = players\n",
        "    return answer"
      ],
      "metadata": {
        "id": "mBww1xwfRcl2"
      },
      "execution_count": 31,
      "outputs": []
    },
    {
      "cell_type": "code",
      "source": [
        "players = [\"mumu\", \"soe\", \"poe\", \"kai\", \"mine\"]\n",
        "callings = [\"kai\", \"kai\", \"mine\", \"mine\"]\n",
        "\n",
        "solution(players, callings)"
      ],
      "metadata": {
        "colab": {
          "base_uri": "https://localhost:8080/"
        },
        "id": "FL34VWNsRoNh",
        "outputId": "7cfca63e-c43d-4aa3-b60b-79c34f2f392d"
      },
      "execution_count": 35,
      "outputs": [
        {
          "output_type": "execute_result",
          "data": {
            "text/plain": [
              "['mumu', 'kai', 'mine', 'soe', 'poe']"
            ]
          },
          "metadata": {},
          "execution_count": 35
        }
      ]
    },
    {
      "cell_type": "markdown",
      "source": [
        "* 실패\n",
        "* 순서가 중요함.. 앞치락 뒤치락"
      ],
      "metadata": {
        "id": "fHoGHAb0R1Ut"
      }
    },
    {
      "cell_type": "markdown",
      "source": [
        "## 3차 시도"
      ],
      "metadata": {
        "id": "zaApdgJiR6ct"
      }
    },
    {
      "cell_type": "code",
      "source": [
        "players = [\"mumu\", \"soe\", \"poe\", \"kai\", \"mine\"]\n",
        "callings = [\"kai\", \"kai\", \"mine\", \"mine\"]"
      ],
      "metadata": {
        "id": "1ApyXTGpRpzz"
      },
      "execution_count": 99,
      "outputs": []
    },
    {
      "cell_type": "code",
      "source": [
        "for c in callings:\n",
        "  idx = players.index(c)\n",
        "  front = players[:idx-1]\n",
        "  last = players[idx+1:]\n",
        "  mid = [players[idx], players[idx-1]]\n",
        "  players = front+mid+last\n",
        "answer = players"
      ],
      "metadata": {
        "id": "Vjgv_LuLSaf9"
      },
      "execution_count": 100,
      "outputs": []
    },
    {
      "cell_type": "code",
      "source": [
        "players"
      ],
      "metadata": {
        "colab": {
          "base_uri": "https://localhost:8080/"
        },
        "id": "w3TpAWvSTM_P",
        "outputId": "f17ca537-fc49-44ad-bead-e7a2f000199d"
      },
      "execution_count": 101,
      "outputs": [
        {
          "output_type": "execute_result",
          "data": {
            "text/plain": [
              "['mumu', 'kai', 'mine', 'soe', 'poe']"
            ]
          },
          "metadata": {},
          "execution_count": 101
        }
      ]
    },
    {
      "cell_type": "code",
      "source": [
        "def solution(players, callings):\n",
        "    for c in callings:\n",
        "        idx = players.index(c)\n",
        "        front = players[:idx-1]\n",
        "        last = players[idx+1:]\n",
        "        mid = [players[idx], players[idx-1]]\n",
        "        players = front+mid+last\n",
        "    answer = players\n",
        "    return answer"
      ],
      "metadata": {
        "id": "8EWNnjgBUjN2"
      },
      "execution_count": 102,
      "outputs": []
    },
    {
      "cell_type": "code",
      "source": [
        "players = [\"mumu\", \"soe\", \"poe\", \"kai\", \"mine\"]\n",
        "callings = [\"kai\", \"kai\", \"mine\", \"mine\"]\n",
        "\n",
        "solution(players, callings)"
      ],
      "metadata": {
        "colab": {
          "base_uri": "https://localhost:8080/"
        },
        "id": "n1qgAtMyXwcQ",
        "outputId": "6220eda3-f4a0-4adb-b9b3-dba98e039d51"
      },
      "execution_count": 103,
      "outputs": [
        {
          "output_type": "execute_result",
          "data": {
            "text/plain": [
              "['mumu', 'kai', 'mine', 'soe', 'poe']"
            ]
          },
          "metadata": {},
          "execution_count": 103
        }
      ]
    },
    {
      "cell_type": "markdown",
      "source": [
        "* 실패 (시간 초과...)"
      ],
      "metadata": {
        "id": "ddsNSF8xX7tL"
      }
    },
    {
      "cell_type": "markdown",
      "source": [
        "## 4차 시도"
      ],
      "metadata": {
        "id": "2Zn0ajl2Yl08"
      }
    },
    {
      "cell_type": "code",
      "source": [
        "players = [\"mumu\", \"soe\", \"poe\", \"kai\", \"mine\"]\n",
        "callings = [\"kai\", \"kai\", \"mine\", \"mine\"]"
      ],
      "metadata": {
        "id": "027Epzu_X02j"
      },
      "execution_count": 167,
      "outputs": []
    },
    {
      "cell_type": "code",
      "source": [
        "player_dict = {p:idx for idx, p in enumerate(players)}\n",
        "p_idx_dict = {idx:p for idx, p in enumerate(players)}\n",
        "\n",
        "for c in callings:\n",
        "  idx = player_dict[c]\n",
        "\n",
        "  player_dict[c] -= 1\n",
        "  player_dict[p_idx_dict[player_dict[c]]] += 1\n",
        "\n",
        "  p_idx = p_idx_dict[idx]\n",
        "  p_change_idx = p_idx_dict[idx-1]\n",
        "  p_idx_dict[idx] = p_change_idx\n",
        "  p_idx_dict[idx-1] = p_idx"
      ],
      "metadata": {
        "id": "RaQImN0SYrAF"
      },
      "execution_count": 187,
      "outputs": []
    },
    {
      "cell_type": "code",
      "source": [
        "list(p_idx_dict.values())"
      ],
      "metadata": {
        "colab": {
          "base_uri": "https://localhost:8080/"
        },
        "id": "1OVXtEH0cgyJ",
        "outputId": "010513c3-921c-4ae7-ffd2-50200fde13ce"
      },
      "execution_count": 191,
      "outputs": [
        {
          "output_type": "execute_result",
          "data": {
            "text/plain": [
              "['mumu', 'kai', 'mine', 'soe', 'poe']"
            ]
          },
          "metadata": {},
          "execution_count": 191
        }
      ]
    },
    {
      "cell_type": "code",
      "source": [
        "def solution(players, callings):\n",
        "    player_dict = {p:idx for idx, p in enumerate(players)}\n",
        "    p_idx_dict = {idx:p for idx, p in enumerate(players)}\n",
        "\n",
        "    for c in callings:\n",
        "        idx = player_dict[c]\n",
        "\n",
        "        player_dict[c] -= 1\n",
        "        player_dict[p_idx_dict[player_dict[c]]] += 1\n",
        "\n",
        "        p_idx = p_idx_dict[idx]\n",
        "        p_change_idx = p_idx_dict[idx-1]\n",
        "        p_idx_dict[idx] = p_change_idx\n",
        "        p_idx_dict[idx-1] = p_idx\n",
        "\n",
        "    answer = list(p_idx_dict.values())\n",
        "    return answer"
      ],
      "metadata": {
        "id": "uVQ3kLr2dglr"
      },
      "execution_count": 194,
      "outputs": []
    },
    {
      "cell_type": "code",
      "source": [
        "players = [\"mumu\", \"soe\", \"poe\", \"kai\", \"mine\"]\n",
        "callings = [\"kai\", \"kai\", \"mine\", \"mine\"]\n",
        "\n",
        "solution(players, callings)"
      ],
      "metadata": {
        "colab": {
          "base_uri": "https://localhost:8080/"
        },
        "id": "K7-lI06JbPqw",
        "outputId": "49a42c91-40df-4ab1-ee49-35dcc3dd16ae"
      },
      "execution_count": 195,
      "outputs": [
        {
          "output_type": "execute_result",
          "data": {
            "text/plain": [
              "['mumu', 'kai', 'mine', 'soe', 'poe']"
            ]
          },
          "metadata": {},
          "execution_count": 195
        }
      ]
    },
    {
      "cell_type": "markdown",
      "source": [
        "* 성공! 딕셔너리가 빠르구나..."
      ],
      "metadata": {
        "id": "C3efBi0zd-n2"
      }
    }
  ]
}