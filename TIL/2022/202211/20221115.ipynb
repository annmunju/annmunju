{
  "nbformat": 4,
  "nbformat_minor": 0,
  "metadata": {
    "colab": {
      "provenance": [],
      "collapsed_sections": []
    },
    "kernelspec": {
      "name": "python3",
      "display_name": "Python 3"
    },
    "language_info": {
      "name": "python"
    },
    "accelerator": "GPU",
    "gpuClass": "standard"
  },
  "cells": [
    {
      "cell_type": "markdown",
      "source": [
        "## Adaptive Moment estimation\n",
        "- 경사하강에서 빠르게 할 것, 느리게 할 것을 결정\n",
        "- wight 하나하나를 고려해서 alpha를 결정\n",
        "  - wight가 같은 방향으로 감소할 때, 학습률 높이기\n",
        "  - wight가 진동을 하면, 학습률 낮추기\n",
        "\n",
        "- compile -> `tf.keras.optimizers.Adam()`\n",
        "  - loss를 정의할 때 `tf.keras.optimizers.SparseCategroicalCrossentropy(from_logits=True)`\n",
        "    - from_logits=True : 모델의 아웃풋이 logit(변형되지 않은 날 것)이었을 때.\n",
        "    - from_logits=False : 모델의 아웃풋이 변형된 값 (e^z_k)"
      ],
      "metadata": {
        "id": "OAgHTK3cKAOH"
      }
    },
    {
      "cell_type": "code",
      "execution_count": 1,
      "metadata": {
        "id": "v23GRXMzGadW"
      },
      "outputs": [],
      "source": [
        "import matplotlib.pyplot as plt\n",
        "import numpy as np\n",
        "import tensorflow as tf\n",
        "\n",
        "tfk = tf.keras\n",
        "tfkl = tfk.layers"
      ]
    },
    {
      "cell_type": "code",
      "source": [
        "z = np.array([1., 2., 3., 4.])"
      ],
      "metadata": {
        "id": "i7vXtVEHMd-n"
      },
      "execution_count": 2,
      "outputs": []
    },
    {
      "cell_type": "code",
      "source": [
        "tf.nn.softmax(z)"
      ],
      "metadata": {
        "colab": {
          "base_uri": "https://localhost:8080/"
        },
        "id": "L_E95_CZOHP1",
        "outputId": "59018f58-58f1-46ab-c2e8-a11041b25a77"
      },
      "execution_count": 18,
      "outputs": [
        {
          "output_type": "execute_result",
          "data": {
            "text/plain": [
              "<tf.Tensor: shape=(4,), dtype=float64, numpy=array([0.0320586 , 0.08714432, 0.23688282, 0.64391426])>"
            ]
          },
          "metadata": {},
          "execution_count": 18
        }
      ]
    },
    {
      "cell_type": "code",
      "source": [
        "tf.reduce_sum(tf.nn.softmax(z))"
      ],
      "metadata": {
        "colab": {
          "base_uri": "https://localhost:8080/"
        },
        "id": "pG-NTvwwNDe1",
        "outputId": "4fdf2a0a-c7b5-417d-d06f-2fe1351d5770"
      },
      "execution_count": 5,
      "outputs": [
        {
          "output_type": "execute_result",
          "data": {
            "text/plain": [
              "<tf.Tensor: shape=(), dtype=float64, numpy=1.0>"
            ]
          },
          "metadata": {},
          "execution_count": 5
        }
      ]
    },
    {
      "cell_type": "code",
      "source": [
        "def softmax(z):\n",
        "  tmp = np.asarray([np.exp(zk) for zk in z])\n",
        "  a = np.asarray([t/sum(tmp) for t in tmp])\n",
        "  return a"
      ],
      "metadata": {
        "id": "KZl8rASBND02"
      },
      "execution_count": 16,
      "outputs": []
    },
    {
      "cell_type": "code",
      "source": [
        "softmax(z)"
      ],
      "metadata": {
        "colab": {
          "base_uri": "https://localhost:8080/"
        },
        "id": "3-ntNP3eNWNK",
        "outputId": "feb818ac-52e8-4422-a9b3-077d979bcc66"
      },
      "execution_count": 17,
      "outputs": [
        {
          "output_type": "execute_result",
          "data": {
            "text/plain": [
              "array([0.0320586 , 0.08714432, 0.23688282, 0.64391426])"
            ]
          },
          "metadata": {},
          "execution_count": 17
        }
      ]
    },
    {
      "cell_type": "code",
      "source": [
        "def softmax_(z):\n",
        "  return np.exp(z)/np.exp(z).sum()"
      ],
      "metadata": {
        "id": "_gEdoQOUNcyq"
      },
      "execution_count": 19,
      "outputs": []
    },
    {
      "cell_type": "code",
      "source": [
        "softmax_(z)"
      ],
      "metadata": {
        "colab": {
          "base_uri": "https://localhost:8080/"
        },
        "id": "W9nvRtPcOqfR",
        "outputId": "d8d78026-c8d2-4bc2-e770-82b79ce1373b"
      },
      "execution_count": 20,
      "outputs": [
        {
          "output_type": "execute_result",
          "data": {
            "text/plain": [
              "array([0.0320586 , 0.08714432, 0.23688282, 0.64391426])"
            ]
          },
          "metadata": {},
          "execution_count": 20
        }
      ]
    },
    {
      "cell_type": "code",
      "source": [
        "mnist = tfk.datasets.mnist.load_data(path='mnist.npz')"
      ],
      "metadata": {
        "colab": {
          "base_uri": "https://localhost:8080/"
        },
        "id": "O0zNYB9SOrot",
        "outputId": "87ddbb69-7189-4c67-beaf-fac8a8978435"
      },
      "execution_count": 21,
      "outputs": [
        {
          "output_type": "stream",
          "name": "stdout",
          "text": [
            "Downloading data from https://storage.googleapis.com/tensorflow/tf-keras-datasets/mnist.npz\n",
            "11490434/11490434 [==============================] - 2s 0us/step\n"
          ]
        }
      ]
    },
    {
      "cell_type": "code",
      "source": [
        "(x_train, y_train), (x_test, y_test) = mnist"
      ],
      "metadata": {
        "id": "OwwjhG7LO2xf"
      },
      "execution_count": 22,
      "outputs": []
    },
    {
      "cell_type": "code",
      "source": [
        "x_train.shape, y_train.shape"
      ],
      "metadata": {
        "colab": {
          "base_uri": "https://localhost:8080/"
        },
        "id": "Oy85PjbnO-VY",
        "outputId": "e5b9a39e-4638-46e4-b886-06a7590e9715"
      },
      "execution_count": 25,
      "outputs": [
        {
          "output_type": "execute_result",
          "data": {
            "text/plain": [
              "((60000, 28, 28), (60000,))"
            ]
          },
          "metadata": {},
          "execution_count": 25
        }
      ]
    },
    {
      "cell_type": "code",
      "source": [
        "x_test.shape, y_test.shape"
      ],
      "metadata": {
        "colab": {
          "base_uri": "https://localhost:8080/"
        },
        "id": "9ChV9JKUO_N4",
        "outputId": "7a415314-5e0d-4b23-cc5c-064b0b949e4a"
      },
      "execution_count": 26,
      "outputs": [
        {
          "output_type": "execute_result",
          "data": {
            "text/plain": [
              "((10000, 28, 28), (10000,))"
            ]
          },
          "metadata": {},
          "execution_count": 26
        }
      ]
    },
    {
      "cell_type": "code",
      "source": [
        "plt.imshow(x_test[0], cmap='gray_r')"
      ],
      "metadata": {
        "colab": {
          "base_uri": "https://localhost:8080/",
          "height": 283
        },
        "id": "P9Sea_5DPFWI",
        "outputId": "14578e53-ac08-46dc-f4b7-bb3e07363ff2"
      },
      "execution_count": 29,
      "outputs": [
        {
          "output_type": "execute_result",
          "data": {
            "text/plain": [
              "<matplotlib.image.AxesImage at 0x7fb36586c890>"
            ]
          },
          "metadata": {},
          "execution_count": 29
        },
        {
          "output_type": "display_data",
          "data": {
            "text/plain": [
              "<Figure size 432x288 with 1 Axes>"
            ],
            "image/png": "[encoded data removed]"
          },
          "metadata": {
            "needs_background": "light"
          }
        }
      ]
    },
    {
      "cell_type": "code",
      "source": [
        "# 25, 15, 10\n",
        "model = tfk.Sequential([\n",
        "    tfk.Input(shape=(28*28,)),\n",
        "    tfkl.Dense(25, activation='relu'), # tfk.activations.relu\n",
        "    tfkl.Dense(15, activation='relu'),\n",
        "    tfkl.Dense(10, activation='linear'),\n",
        "])"
      ],
      "metadata": {
        "id": "4BpCn8drPbWH"
      },
      "execution_count": 41,
      "outputs": []
    },
    {
      "cell_type": "code",
      "source": [
        "model.summary()"
      ],
      "metadata": {
        "colab": {
          "base_uri": "https://localhost:8080/"
        },
        "id": "eJelYepKRNQ5",
        "outputId": "aa4ffa13-07ac-4e1e-d1a7-281a507765a0"
      },
      "execution_count": 42,
      "outputs": [
        {
          "output_type": "stream",
          "name": "stdout",
          "text": [
            "Model: \"sequential_2\"\n",
            "_________________________________________________________________\n",
            " Layer (type)                Output Shape              Param #   \n",
            "=================================================================\n",
            " dense_6 (Dense)             (None, 25)                19625     \n",
            "                                                                 \n",
            " dense_7 (Dense)             (None, 15)                390       \n",
            "                                                                 \n",
            " dense_8 (Dense)             (None, 10)                160       \n",
            "                                                                 \n",
            "=================================================================\n",
            "Total params: 20,175\n",
            "Trainable params: 20,175\n",
            "Non-trainable params: 0\n",
            "_________________________________________________________________\n"
          ]
        }
      ]
    },
    {
      "cell_type": "code",
      "source": [
        "x = tfk.Input(shape=(28*28,))"
      ],
      "metadata": {
        "id": "cPf3DaH2QV2w"
      },
      "execution_count": 43,
      "outputs": []
    },
    {
      "cell_type": "code",
      "source": [
        "x.shape"
      ],
      "metadata": {
        "colab": {
          "base_uri": "https://localhost:8080/"
        },
        "id": "irNdzM63QWyg",
        "outputId": "f5ca25ab-28c9-40c5-cdcd-fb0b2ca1d14e"
      },
      "execution_count": 44,
      "outputs": [
        {
          "output_type": "execute_result",
          "data": {
            "text/plain": [
              "TensorShape([None, 784])"
            ]
          },
          "metadata": {},
          "execution_count": 44
        }
      ]
    },
    {
      "cell_type": "code",
      "source": [
        "model(x)"
      ],
      "metadata": {
        "colab": {
          "base_uri": "https://localhost:8080/"
        },
        "id": "QJ_GrotoQch2",
        "outputId": "a194cd6e-ba73-47b2-c996-b69c03427dad"
      },
      "execution_count": 45,
      "outputs": [
        {
          "output_type": "execute_result",
          "data": {
            "text/plain": [
              "<KerasTensor: shape=(None, 10) dtype=float32 (created by layer 'sequential_2')>"
            ]
          },
          "metadata": {},
          "execution_count": 45
        }
      ]
    },
    {
      "cell_type": "code",
      "source": [
        "w1, b1 = model.layers[0].get_weights()"
      ],
      "metadata": {
        "id": "7MrVGXcAQ9S9"
      },
      "execution_count": 48,
      "outputs": []
    },
    {
      "cell_type": "code",
      "source": [
        "w1.shape, b1.shape"
      ],
      "metadata": {
        "colab": {
          "base_uri": "https://localhost:8080/"
        },
        "id": "6WN-VgDGQ-4R",
        "outputId": "d51803bc-aece-4034-88c6-56a6ded5f1d8"
      },
      "execution_count": 49,
      "outputs": [
        {
          "output_type": "execute_result",
          "data": {
            "text/plain": [
              "((784, 25), (25,))"
            ]
          },
          "metadata": {},
          "execution_count": 49
        }
      ]
    },
    {
      "cell_type": "code",
      "source": [
        "model.compile(loss='SparseCategoricalCrossentropy', optimizer='adam',\n",
        "              metrics=['accuracy'])"
      ],
      "metadata": {
        "id": "hIr8IoK1RdU9"
      },
      "execution_count": 71,
      "outputs": []
    },
    {
      "cell_type": "code",
      "source": [
        "history = model.fit(\n",
        "    x_train.reshape(60000, -1),\n",
        "    y_train,\n",
        "    epochs=5\n",
        ")"
      ],
      "metadata": {
        "colab": {
          "base_uri": "https://localhost:8080/"
        },
        "id": "28WLiNKfRsn9",
        "outputId": "7e1b8b1e-b05a-465c-ffbc-1ce4f8999410"
      },
      "execution_count": 72,
      "outputs": [
        {
          "output_type": "stream",
          "name": "stdout",
          "text": [
            "Epoch 1/5\n",
            "1875/1875 [==============================] - 5s 2ms/step - loss: 11.7730 - accuracy: 0.1789\n",
            "Epoch 2/5\n",
            "1875/1875 [==============================] - 4s 2ms/step - loss: 11.6664 - accuracy: 0.2239\n",
            "Epoch 3/5\n",
            "1875/1875 [==============================] - 4s 2ms/step - loss: 11.5723 - accuracy: 0.2385\n",
            "Epoch 4/5\n",
            "1875/1875 [==============================] - 4s 2ms/step - loss: 11.5597 - accuracy: 0.2183\n",
            "Epoch 5/5\n",
            "1875/1875 [==============================] - 4s 2ms/step - loss: 11.6824 - accuracy: 0.1924\n"
          ]
        }
      ]
    },
    {
      "cell_type": "code",
      "source": [
        "history.history"
      ],
      "metadata": {
        "colab": {
          "base_uri": "https://localhost:8080/"
        },
        "id": "IJywXSuySi4x",
        "outputId": "964f156d-facd-454f-cbdd-d166d762b65a"
      },
      "execution_count": 73,
      "outputs": [
        {
          "output_type": "execute_result",
          "data": {
            "text/plain": [
              "{'loss': [11.773028373718262,\n",
              "  11.666437149047852,\n",
              "  11.572341918945312,\n",
              "  11.559686660766602,\n",
              "  11.68237018585205],\n",
              " 'accuracy': [0.1789499968290329,\n",
              "  0.22388333082199097,\n",
              "  0.23849999904632568,\n",
              "  0.21831665933132172,\n",
              "  0.19238333404064178]}"
            ]
          },
          "metadata": {},
          "execution_count": 73
        }
      ]
    },
    {
      "cell_type": "code",
      "source": [
        "model.evaluate(x_test.reshape(10000, -1), y_test)"
      ],
      "metadata": {
        "colab": {
          "base_uri": "https://localhost:8080/"
        },
        "id": "yOsMj0CUS8tA",
        "outputId": "56298e45-fbf0-4f77-e6e3-93a8ff8030ef"
      },
      "execution_count": 74,
      "outputs": [
        {
          "output_type": "stream",
          "name": "stdout",
          "text": [
            "313/313 [==============================] - 1s 2ms/step - loss: 11.4435 - accuracy: 0.2674\n"
          ]
        },
        {
          "output_type": "execute_result",
          "data": {
            "text/plain": [
              "[11.44350814819336, 0.26739999651908875]"
            ]
          },
          "metadata": {},
          "execution_count": 74
        }
      ]
    },
    {
      "cell_type": "markdown",
      "source": [
        "---\n",
        "\n",
        "## CNN 의 원리\n",
        "\n",
        "- Dense Layer\n",
        "  - 모든 Input을 다 확인함 -> 빡빡한 레이어\n",
        "- Convolutional Layer\n",
        "  - Input에 특정 영역(일부)을 보고 계산 \n",
        "    - 빠른 연산\n",
        "    - 적은 데이터로도 연산\n",
        "  - filter -> 특정 영역만 확인해 훑음\n",
        "  - 1D에서도 쓸 수 있음 \n",
        "    - 예시 ) EKG (심박 측정) -> 심장병 여부 확인\n",
        "    - 예시 ) 음성 데이터 -> 데이터의 양이 많아서 CNN 사용 (일부씩만 확인)\n",
        "  "
      ],
      "metadata": {
        "id": "nKdlCVw8TqdY"
      }
    },
    {
      "cell_type": "code",
      "source": [],
      "metadata": {
        "id": "BazwnwyMVDHJ"
      },
      "execution_count": null,
      "outputs": []
    }
  ]
}