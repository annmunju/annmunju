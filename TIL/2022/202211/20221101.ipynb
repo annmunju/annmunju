{
  "nbformat": 4,
  "nbformat_minor": 0,
  "metadata": {
    "colab": {
      "provenance": [],
      "collapsed_sections": []
    },
    "kernelspec": {
      "name": "python3",
      "display_name": "Python 3"
    },
    "language_info": {
      "name": "python"
    }
  },
  "cells": [
    {
      "cell_type": "markdown",
      "source": [
        "### Note.\n",
        "\n",
        "* multiclass (y가 분류) : [1, 0, 0]\n",
        "* multilabel (y의 값이 여러개) : [1, 0, 1]\n",
        "* multitask (output이 여러개) : [1, 0, 0], [0, 1, 0, 0]\n",
        "\n",
        "* 다분류시에는 차원을 늘려줌 (one-hot encoding)\n",
        " -> output 노드의 개수는 차원 개수와 동일하게 함\n",
        "* 전체 확률의 합을 1로 만들어주는 함수 __softmax__\n",
        "  * 그래서 확률로 계산해주는구나,,\n",
        "\n",
        "* feature extractor"
      ],
      "metadata": {
        "id": "ObuaSetxO__0"
      }
    },
    {
      "cell_type": "code",
      "execution_count": 1,
      "metadata": {
        "id": "41GzxIZH_48f"
      },
      "outputs": [],
      "source": [
        "test1 = 2 / 10000"
      ]
    },
    {
      "cell_type": "code",
      "source": [
        "test2 = (1 + 1/10000) - (1 - 1/10000)"
      ],
      "metadata": {
        "id": "6XWai1W-C6ok"
      },
      "execution_count": 3,
      "outputs": []
    },
    {
      "cell_type": "code",
      "source": [
        "test1"
      ],
      "metadata": {
        "colab": {
          "base_uri": "https://localhost:8080/"
        },
        "id": "WsRtoPZxC__5",
        "outputId": "a8c3528d-99bd-4cf2-8e53-43ce534afc86"
      },
      "execution_count": 4,
      "outputs": [
        {
          "output_type": "execute_result",
          "data": {
            "text/plain": [
              "0.0002"
            ]
          },
          "metadata": {},
          "execution_count": 4
        }
      ]
    },
    {
      "cell_type": "code",
      "source": [
        "test2"
      ],
      "metadata": {
        "colab": {
          "base_uri": "https://localhost:8080/"
        },
        "id": "D8y4B94zDFtm",
        "outputId": "aebf06b2-2bcc-4e75-81f6-9059552869ed"
      },
      "execution_count": 5,
      "outputs": [
        {
          "output_type": "execute_result",
          "data": {
            "text/plain": [
              "0.00019999999999997797"
            ]
          },
          "metadata": {},
          "execution_count": 5
        }
      ]
    },
    {
      "cell_type": "code",
      "source": [
        "# onehot-encoding 된 y-> sparse_categorical_crossentropy\n",
        "# 정수형태 카테고리인 y -> categorical_crossentropy"
      ],
      "metadata": {
        "id": "lIz24iqnEPH6"
      },
      "execution_count": null,
      "outputs": []
    },
    {
      "cell_type": "markdown",
      "source": [
        "---"
      ],
      "metadata": {
        "id": "eXEZjdvBFjgv"
      }
    },
    {
      "cell_type": "code",
      "source": [
        "import tensorflow as tf\n",
        "from tensorflow.keras import Sequential\n",
        "from tensorflow.keras.layers import Dense"
      ],
      "metadata": {
        "id": "ePcdCbCwFjwW"
      },
      "execution_count": 11,
      "outputs": []
    },
    {
      "cell_type": "code",
      "source": [
        "model = Sequential([\n",
        "    Dense(25, activation='relu', name='layer1'),\n",
        "    Dense(15, activation='relu', name='layer2'),\n",
        "    Dense(10, activation='linear', name='output')\n",
        "])"
      ],
      "metadata": {
        "id": "7WsthWZyFzq0"
      },
      "execution_count": 32,
      "outputs": []
    },
    {
      "cell_type": "code",
      "source": [
        "from tensorflow.keras.losses import SparseCategoricalCrossentropy"
      ],
      "metadata": {
        "id": "AytzqGOOGB-I"
      },
      "execution_count": 15,
      "outputs": []
    },
    {
      "cell_type": "code",
      "source": [
        "model.compile(loss=SparseCategoricalCrossentropy(from_logits=True))"
      ],
      "metadata": {
        "id": "FloXOmiSGFRo"
      },
      "execution_count": 16,
      "outputs": []
    },
    {
      "cell_type": "markdown",
      "source": [
        "---"
      ],
      "metadata": {
        "id": "N9SJLo9HGTPS"
      }
    },
    {
      "cell_type": "code",
      "source": [
        "import numpy as np\n",
        "import tensorflow as tf\n",
        "tfk = tf.keras\n",
        "tfkl = tfk.layers"
      ],
      "metadata": {
        "id": "dSJRd4inGMs9"
      },
      "execution_count": 102,
      "outputs": []
    },
    {
      "cell_type": "code",
      "source": [
        "input = tfk.Input(2, name='input_layer')\n",
        "a1 = tfkl.Dense(25, 'relu', name='layer1')(input)\n",
        "a2 = tfkl.Dense(15, 'relu', name='layer2')(a1)\n",
        "output = tfkl.Dense(10, 'relu', name='output')(a2)"
      ],
      "metadata": {
        "id": "fdS2R4OmGX2O"
      },
      "execution_count": 115,
      "outputs": []
    },
    {
      "cell_type": "code",
      "source": [
        "model = tfk.Model(input, output, name='my_model')"
      ],
      "metadata": {
        "id": "CJbGGp61Gxp6"
      },
      "execution_count": 116,
      "outputs": []
    },
    {
      "cell_type": "code",
      "source": [
        "model.summary()"
      ],
      "metadata": {
        "colab": {
          "base_uri": "https://localhost:8080/"
        },
        "id": "ne1_y1lIG8wC",
        "outputId": "d550b14d-9f3f-411f-ae78-8d0950a6049b"
      },
      "execution_count": 117,
      "outputs": [
        {
          "output_type": "stream",
          "name": "stdout",
          "text": [
            "Model: \"my_model\"\n",
            "_________________________________________________________________\n",
            " Layer (type)                Output Shape              Param #   \n",
            "=================================================================\n",
            " input_layer (InputLayer)    [(None, 2)]               0         \n",
            "                                                                 \n",
            " layer1 (Dense)              (None, 25)                75        \n",
            "                                                                 \n",
            " layer2 (Dense)              (None, 15)                390       \n",
            "                                                                 \n",
            " output (Dense)              (None, 10)                160       \n",
            "                                                                 \n",
            "=================================================================\n",
            "Total params: 625\n",
            "Trainable params: 625\n",
            "Non-trainable params: 0\n",
            "_________________________________________________________________\n"
          ]
        }
      ]
    },
    {
      "cell_type": "code",
      "source": [
        "n = 20000\n",
        "x = np.random.randn(n, 2)\n",
        "y = np.random.randint(0, 9, size=n)"
      ],
      "metadata": {
        "id": "n9l5VkrBG9QO"
      },
      "execution_count": 118,
      "outputs": []
    },
    {
      "cell_type": "code",
      "source": [
        "x.shape, y.shape"
      ],
      "metadata": {
        "colab": {
          "base_uri": "https://localhost:8080/"
        },
        "id": "u4kAjSRnHqfq",
        "outputId": "11068aff-44a1-4fc3-b571-0b7bfd7c3928"
      },
      "execution_count": 119,
      "outputs": [
        {
          "output_type": "execute_result",
          "data": {
            "text/plain": [
              "((20000, 2), (20000,))"
            ]
          },
          "metadata": {},
          "execution_count": 119
        }
      ]
    },
    {
      "cell_type": "code",
      "source": [
        "tf.one_hot(y, 10, dtype=tf.int32) # np.eye(10)[y].astype('int')"
      ],
      "metadata": {
        "colab": {
          "base_uri": "https://localhost:8080/"
        },
        "id": "OyEdLuExHrMd",
        "outputId": "0e546b33-9f76-4839-8c6a-883b3fb656f7"
      },
      "execution_count": 120,
      "outputs": [
        {
          "output_type": "execute_result",
          "data": {
            "text/plain": [
              "<tf.Tensor: shape=(20000, 10), dtype=int32, numpy=\n",
              "array([[0, 0, 0, ..., 0, 1, 0],\n",
              "       [0, 0, 0, ..., 0, 0, 0],\n",
              "       [1, 0, 0, ..., 0, 0, 0],\n",
              "       ...,\n",
              "       [0, 0, 0, ..., 0, 0, 0],\n",
              "       [0, 0, 0, ..., 0, 0, 0],\n",
              "       [1, 0, 0, ..., 0, 0, 0]], dtype=int32)>"
            ]
          },
          "metadata": {},
          "execution_count": 120
        }
      ]
    },
    {
      "cell_type": "code",
      "source": [
        "y_onehot = np.eye(10)[y]"
      ],
      "metadata": {
        "id": "J6gcUsLIIJ1l"
      },
      "execution_count": 121,
      "outputs": []
    },
    {
      "cell_type": "code",
      "source": [
        "y_onehot.shape"
      ],
      "metadata": {
        "colab": {
          "base_uri": "https://localhost:8080/"
        },
        "id": "7rwC_eHGJPr6",
        "outputId": "ec5dca79-9925-460c-9155-50fc1159ba97"
      },
      "execution_count": 122,
      "outputs": [
        {
          "output_type": "execute_result",
          "data": {
            "text/plain": [
              "(20000, 10)"
            ]
          },
          "metadata": {},
          "execution_count": 122
        }
      ]
    },
    {
      "cell_type": "code",
      "source": [
        "model.compile(loss=tfk.losses.CategoricalCrossentropy(from_logits=True))"
      ],
      "metadata": {
        "id": "2pAFOvprJRhp"
      },
      "execution_count": 125,
      "outputs": []
    },
    {
      "cell_type": "code",
      "source": [
        "model.fit(x,y_onehot, epochs=10)"
      ],
      "metadata": {
        "colab": {
          "base_uri": "https://localhost:8080/"
        },
        "id": "aPIsu6KEJfDz",
        "outputId": "327fd05c-cc05-47b2-f0b7-b94124eb479e"
      },
      "execution_count": 126,
      "outputs": [
        {
          "output_type": "stream",
          "name": "stdout",
          "text": [
            "Epoch 1/10\n",
            "625/625 [==============================] - 2s 2ms/step - loss: 2.2969\n",
            "Epoch 2/10\n",
            "625/625 [==============================] - 1s 2ms/step - loss: 2.2910\n",
            "Epoch 3/10\n",
            "625/625 [==============================] - 1s 2ms/step - loss: 2.2825\n",
            "Epoch 4/10\n",
            "625/625 [==============================] - 1s 2ms/step - loss: 2.2754\n",
            "Epoch 5/10\n",
            "625/625 [==============================] - 1s 2ms/step - loss: 2.2744\n",
            "Epoch 6/10\n",
            "625/625 [==============================] - 1s 2ms/step - loss: 2.2736\n",
            "Epoch 7/10\n",
            "625/625 [==============================] - 1s 2ms/step - loss: 2.2741\n",
            "Epoch 8/10\n",
            "625/625 [==============================] - 1s 2ms/step - loss: 2.2738\n",
            "Epoch 9/10\n",
            "625/625 [==============================] - 1s 2ms/step - loss: 2.2735\n",
            "Epoch 10/10\n",
            "625/625 [==============================] - 1s 2ms/step - loss: 2.2738\n"
          ]
        },
        {
          "output_type": "execute_result",
          "data": {
            "text/plain": [
              "<keras.callbacks.History at 0x7f95a6502b10>"
            ]
          },
          "metadata": {},
          "execution_count": 126
        }
      ]
    },
    {
      "cell_type": "code",
      "source": [
        "model.evaluate(x)"
      ],
      "metadata": {
        "colab": {
          "base_uri": "https://localhost:8080/"
        },
        "id": "aWUZHx16J8OW",
        "outputId": "4e3e7995-d036-4794-a44b-fda6d0274cad"
      },
      "execution_count": 127,
      "outputs": [
        {
          "output_type": "stream",
          "name": "stdout",
          "text": [
            "625/625 [==============================] - 1s 2ms/step - loss: 0.0000e+00\n"
          ]
        },
        {
          "output_type": "execute_result",
          "data": {
            "text/plain": [
              "0.0"
            ]
          },
          "metadata": {},
          "execution_count": 127
        }
      ]
    },
    {
      "cell_type": "code",
      "source": [
        "y_hat = model.predict(x)"
      ],
      "metadata": {
        "colab": {
          "base_uri": "https://localhost:8080/"
        },
        "id": "aT4_9FXnKeMZ",
        "outputId": "f9f84240-158e-4041-b60b-c42a80047773"
      },
      "execution_count": 128,
      "outputs": [
        {
          "output_type": "stream",
          "name": "stdout",
          "text": [
            "625/625 [==============================] - 1s 2ms/step\n"
          ]
        }
      ]
    },
    {
      "cell_type": "code",
      "source": [
        "y_hat.sum(axis=-1)"
      ],
      "metadata": {
        "colab": {
          "base_uri": "https://localhost:8080/"
        },
        "id": "LAVXNxVHLTIB",
        "outputId": "b770b199-eecf-4d66-a94e-356f4505190f"
      },
      "execution_count": 134,
      "outputs": [
        {
          "output_type": "execute_result",
          "data": {
            "text/plain": [
              "array([4.897428, 6.292034, 5.577613, ..., 6.971848, 5.62802 , 5.328928],\n",
              "      dtype=float32)"
            ]
          },
          "metadata": {},
          "execution_count": 134
        }
      ]
    },
    {
      "cell_type": "code",
      "source": [
        "f_x = tf.nn.softmax(y_hat)"
      ],
      "metadata": {
        "id": "w3POyj09LXPc"
      },
      "execution_count": 135,
      "outputs": []
    },
    {
      "cell_type": "code",
      "source": [
        "tf.reduce_sum(f_x, axis=-1) # f_x.numpy().sum(axis=-1)"
      ],
      "metadata": {
        "colab": {
          "base_uri": "https://localhost:8080/"
        },
        "id": "t6JjQobTL0NY",
        "outputId": "0fa5528a-b4e6-4b8a-f734-a149a6725ca4"
      },
      "execution_count": 139,
      "outputs": [
        {
          "output_type": "execute_result",
          "data": {
            "text/plain": [
              "<tf.Tensor: shape=(20000,), dtype=float32, numpy=\n",
              "array([0.9999999, 1.       , 1.       , ..., 1.0000001, 1.       ,\n",
              "       0.9999999], dtype=float32)>"
            ]
          },
          "metadata": {},
          "execution_count": 139
        }
      ]
    },
    {
      "cell_type": "code",
      "source": [
        "f_x.numpy().sum(axis=-1).round()"
      ],
      "metadata": {
        "colab": {
          "base_uri": "https://localhost:8080/"
        },
        "id": "WvJstJzPL0oE",
        "outputId": "91349f45-bd0e-41ac-c7a8-023a530ce6a6"
      },
      "execution_count": 142,
      "outputs": [
        {
          "output_type": "execute_result",
          "data": {
            "text/plain": [
              "array([1., 1., 1., ..., 1., 1., 1.], dtype=float32)"
            ]
          },
          "metadata": {},
          "execution_count": 142
        }
      ]
    },
    {
      "cell_type": "code",
      "source": [],
      "metadata": {
        "id": "Z3iwYHMjMRce"
      },
      "execution_count": null,
      "outputs": []
    }
  ]
}