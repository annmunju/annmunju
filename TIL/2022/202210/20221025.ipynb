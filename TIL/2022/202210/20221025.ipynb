{
  "cells": [
    {
      "cell_type": "markdown",
      "metadata": {
        "id": "RAjMnBiqX2xd"
      },
      "source": [
        "# 20221025\n",
        "\n",
        "- AI 강의 정리\n",
        "\n",
        "---"
      ]
    },
    {
      "cell_type": "markdown",
      "metadata": {
        "id": "V00-iryUX860"
      },
      "source": [
        "## Import"
      ]
    },
    {
      "cell_type": "code",
      "execution_count": null,
      "metadata": {
        "id": "4KxHgbzvGdwm"
      },
      "outputs": [],
      "source": [
        "import numpy as np\n",
        "import matplotlib.pyplot as plt\n",
        "\n",
        "import tensorflow as tf\n",
        "tfk = tf.keras\n",
        "tfkl = tfk.layers"
      ]
    },
    {
      "cell_type": "markdown",
      "metadata": {
        "id": "pIoqbv0BEL32"
      },
      "source": [
        "## 데이터 정의"
      ]
    },
    {
      "cell_type": "markdown",
      "metadata": {
        "id": "Dyv6SWqAV5Gw"
      },
      "source": [
        "* (옵션) tf.data로 batch 사용 가능\n",
        "  * 1개의 batch가 한번에 들어가서 평균을 계산해 weight 개선하는 (GD) 하는 방법 = SGD"
      ]
    },
    {
      "cell_type": "code",
      "execution_count": null,
      "metadata": {
        "id": "8_faK8jKELuH"
      },
      "outputs": [],
      "source": [
        "n_feat = 4\n",
        "n_data = 1000\n",
        "\n",
        "xdata = np.random.rand(n_data, n_feat)\n",
        "ydata = np.round(np.random.rand(n_data))"
      ]
    },
    {
      "cell_type": "markdown",
      "metadata": {
        "id": "3s1bIkEHEJ7h"
      },
      "source": [
        "## 모델 정의"
      ]
    },
    {
      "cell_type": "code",
      "execution_count": null,
      "metadata": {
        "id": "hLZPgCmPDKPx"
      },
      "outputs": [],
      "source": [
        "x = tfk.Input((4,), name='input')"
      ]
    },
    {
      "cell_type": "code",
      "execution_count": null,
      "metadata": {
        "id": "SbQCmNjmB9i9"
      },
      "outputs": [],
      "source": [
        "model = tfk.Sequential([\n",
        "    tfkl.Dense(25, 'sigmoid', name='hid1'),\n",
        "    tfkl.Dense(15, 'sigmoid', name='hid2'),\n",
        "    tfkl.Dense(1, 'sigmoid', name='out')\n",
        "])"
      ]
    },
    {
      "cell_type": "code",
      "execution_count": null,
      "metadata": {
        "colab": {
          "base_uri": "https://localhost:8080/"
        },
        "id": "1pkmcBjXDUZg",
        "outputId": "54c6ce48-413b-479f-c485-a5f3eb64cb91"
      },
      "outputs": [
        {
          "data": {
            "text/plain": [
              "<KerasTensor: shape=(None, 1) dtype=float32 (created by layer 'sequential_2')>"
            ]
          },
          "execution_count": 16,
          "metadata": {},
          "output_type": "execute_result"
        }
      ],
      "source": [
        "model(x)"
      ]
    },
    {
      "cell_type": "code",
      "execution_count": null,
      "metadata": {
        "id": "ta2veLz9CPXt"
      },
      "outputs": [],
      "source": [
        "hid1 = model.get_layer('hid1')"
      ]
    },
    {
      "cell_type": "code",
      "execution_count": null,
      "metadata": {
        "id": "turElG12Co7v"
      },
      "outputs": [],
      "source": [
        "w, b = hid1.weights"
      ]
    },
    {
      "cell_type": "code",
      "execution_count": null,
      "metadata": {
        "colab": {
          "base_uri": "https://localhost:8080/"
        },
        "id": "d8qQR91lCt3l",
        "outputId": "a1b4e2c8-5039-4c0e-ff24-e137bbb27da5"
      },
      "outputs": [
        {
          "data": {
            "text/plain": [
              "(TensorShape([4, 25]), TensorShape([25]))"
            ]
          },
          "execution_count": 24,
          "metadata": {},
          "output_type": "execute_result"
        }
      ],
      "source": [
        "w.shape, b.shape"
      ]
    },
    {
      "cell_type": "markdown",
      "metadata": {
        "id": "gBDjVbfZEEbd"
      },
      "source": [
        "## 컴파일"
      ]
    },
    {
      "cell_type": "markdown",
      "metadata": {
        "id": "4waOAydYTpZY"
      },
      "source": [
        "* optimizer : back propargate를 위한 최적화 방법\n",
        "  * SGD (stochastic gradient descent)\n",
        "  * RMSprop\n",
        "  * Adam\n",
        "  * Adadelta\n",
        "  * Adagrad\n",
        "  * Adamax\n",
        "  * Nadam\n",
        "  * Ftrl\n",
        "* loss : 오차 정의\n",
        "  * BinaryCrossentropy class :이진분류 loss 정의\n",
        "  * CategoricalCrossentropy class :다중분류 loss 정의\n",
        "  * MeanSquaredError class :평균제곱법\n",
        "* metrics : log 기록"
      ]
    },
    {
      "cell_type": "code",
      "execution_count": null,
      "metadata": {
        "id": "st7qFZJmDwp9"
      },
      "outputs": [],
      "source": [
        "model.compile(loss=tfk.losses.BinaryCrossentropy())"
      ]
    },
    {
      "cell_type": "markdown",
      "metadata": {
        "id": "_6St8aK2EDDU"
      },
      "source": [
        "## 훈련 시작"
      ]
    },
    {
      "cell_type": "markdown",
      "metadata": {
        "id": "jZ_5F93lVg6t"
      },
      "source": [
        "* epochs : 훈련 반복 횟수\n",
        "* parameter (현재 코드에는 적용 X)\n",
        "  * batch_size\n",
        "  * ..."
      ]
    },
    {
      "cell_type": "code",
      "execution_count": null,
      "metadata": {
        "colab": {
          "base_uri": "https://localhost:8080/"
        },
        "id": "2K_URJt2D42Y",
        "outputId": "395b3b37-452f-4942-f6b1-ec7e2830778a"
      },
      "outputs": [
        {
          "name": "stdout",
          "output_type": "stream",
          "text": [
            "32/32 - 0s - loss: 0.6845 - 60ms/epoch - 2ms/step\n",
            "Epoch 997/1000\n",
            "32/32 - 0s - loss: 0.6846 - 57ms/epoch - 2ms/step\n",
            "Epoch 998/1000\n",
            "32/32 - 0s - loss: 0.6849 - 55ms/epoch - 2ms/step\n",
            "Epoch 999/1000\n",
            "32/32 - 0s - loss: 0.6845 - 55ms/epoch - 2ms/step\n",
            "Epoch 1000/1000\n",
            "32/32 - 0s - loss: 0.6849 - 58ms/epoch - 2ms/step\n",
            "CPU times: user 1min 4s, sys: 3.82 s, total: 1min 8s\n",
            "Wall time: 1min 21s\n"
          ]
        }
      ],
      "source": [
        "%%time\n",
        "history = model.fit(xdata, ydata, epochs=1000, verbose=2)"
      ]
    },
    {
      "cell_type": "code",
      "execution_count": null,
      "metadata": {
        "colab": {
          "base_uri": "https://localhost:8080/"
        },
        "id": "rOwlfjRaE54o",
        "outputId": "8fe499aa-bc44-4afb-9aef-51d219a80ff8"
      },
      "outputs": [
        {
          "data": {
            "text/plain": [
              "dict_keys(['loss'])"
            ]
          },
          "execution_count": 32,
          "metadata": {},
          "output_type": "execute_result"
        }
      ],
      "source": [
        "history.history.keys()"
      ]
    },
    {
      "cell_type": "code",
      "execution_count": null,
      "metadata": {
        "id": "gaziQdnqFbJL"
      },
      "outputs": [],
      "source": [
        "loss = history.history['loss']"
      ]
    },
    {
      "cell_type": "code",
      "execution_count": null,
      "metadata": {
        "colab": {
          "base_uri": "https://localhost:8080/",
          "height": 283
        },
        "id": "2lht52mBGuNg",
        "outputId": "17ca2389-2933-486d-af49-51a0a06407f7"
      },
      "outputs": [
        {
          "data": {
            "text/plain": [
              "[<matplotlib.lines.Line2D at 0x7fe2ac128b50>]"
            ]
          },
          "execution_count": 38,
          "metadata": {},
          "output_type": "execute_result"
        },
        {
          "data": {
            "image/png": "[encoded data removed]",
            "text/plain": [
              "<Figure size 432x288 with 1 Axes>"
            ]
          },
          "metadata": {
            "needs_background": "light"
          },
          "output_type": "display_data"
        }
      ],
      "source": [
        "plt.plot(loss, 'o-')"
      ]
    },
    {
      "cell_type": "markdown",
      "metadata": {
        "id": "5i0CqW4sIEl2"
      },
      "source": [
        "## 모델 사용해보기 (inference, 추론)"
      ]
    },
    {
      "cell_type": "code",
      "execution_count": null,
      "metadata": {
        "id": "qGV09YcEIUmh"
      },
      "outputs": [],
      "source": [
        "x_test = np.random.rand(1,4)"
      ]
    },
    {
      "cell_type": "code",
      "execution_count": null,
      "metadata": {
        "colab": {
          "base_uri": "https://localhost:8080/"
        },
        "id": "Y2Zs1JBAIhdj",
        "outputId": "b9e66461-40bf-4b9e-b7fa-7189521f24e4"
      },
      "outputs": [
        {
          "data": {
            "text/plain": [
              "array([[0.98523497, 0.33753705, 0.9751283 , 0.02862008]])"
            ]
          },
          "execution_count": 41,
          "metadata": {},
          "output_type": "execute_result"
        }
      ],
      "source": [
        "x_test"
      ]
    },
    {
      "cell_type": "code",
      "execution_count": null,
      "metadata": {
        "colab": {
          "base_uri": "https://localhost:8080/"
        },
        "id": "35ADJUtWJBlA",
        "outputId": "6832b8d5-5917-4cf0-e7e1-acb9e6a43f23"
      },
      "outputs": [
        {
          "name": "stdout",
          "output_type": "stream",
          "text": [
            "1/1 [==============================] - 0s 45ms/step\n"
          ]
        },
        {
          "data": {
            "text/plain": [
              "array([[0.54638034]], dtype=float32)"
            ]
          },
          "execution_count": 43,
          "metadata": {},
          "output_type": "execute_result"
        }
      ],
      "source": [
        "model.predict(x_test)"
      ]
    },
    {
      "cell_type": "code",
      "execution_count": null,
      "metadata": {
        "colab": {
          "base_uri": "https://localhost:8080/"
        },
        "id": "G3jcCHheG2dl",
        "outputId": "d10989df-7ace-46e9-e98e-7cdf89ceeab7"
      },
      "outputs": [
        {
          "name": "stdout",
          "output_type": "stream",
          "text": [
            "1/1 [==============================] - 0s 31ms/step\n"
          ]
        },
        {
          "data": {
            "text/plain": [
              "array([[0.7511709]], dtype=float32)"
            ]
          },
          "execution_count": 44,
          "metadata": {},
          "output_type": "execute_result"
        }
      ],
      "source": [
        "model.predict([[0,0,0,0]])"
      ]
    },
    {
      "cell_type": "code",
      "execution_count": null,
      "metadata": {
        "colab": {
          "base_uri": "https://localhost:8080/"
        },
        "id": "QOCaw6zEJBP2",
        "outputId": "9eda3f27-8c97-44ee-ff72-a1d11a87849e"
      },
      "outputs": [
        {
          "name": "stdout",
          "output_type": "stream",
          "text": [
            "1/1 [==============================] - 0s 68ms/step\n"
          ]
        },
        {
          "data": {
            "text/plain": [
              "array([[0.55797845]], dtype=float32)"
            ]
          },
          "execution_count": 45,
          "metadata": {},
          "output_type": "execute_result"
        }
      ],
      "source": [
        "model.predict([[1,1,1,1]])"
      ]
    },
    {
      "cell_type": "markdown",
      "metadata": {
        "id": "iPNJ_QFAWw_r"
      },
      "source": [
        "# 추가 개념\n",
        "\n",
        "* 순전파 (forward propagation) -> 순서대로 변수 계산 및 저장\n",
        "* 역전파 (back propagation) -> gradient 계산 (미분 및 업데이트)\n",
        "  \n",
        "### .\n",
        "\n",
        "* tensorflow 라이브러리\n",
        "  * JAX \n",
        "\n",
        "### . \n",
        "\n",
        "* 활성화 함수 (Activation)\n",
        "  * 종류\n",
        "    * Sigmoid\n",
        "    * ReLU\n",
        "    * Tanh\n",
        "    * leaky ReLU, ELU, SeLU ...\n",
        "  * Output layer의 activation은 데이터의 형태에 맞게 사용해야 함.\n",
        "  * hidden layer의 activation은 주로 ReLU를 사용\n",
        "\n"
      ]
    },
    {
      "cell_type": "code",
      "execution_count": null,
      "metadata": {
        "id": "WOX8t0_3L0Vb"
      },
      "outputs": [],
      "source": []
    }
  ],
  "metadata": {
    "colab": {
      "collapsed_sections": [],
      "provenance": []
    },
    "kernelspec": {
      "display_name": "Python 3.6.9 64-bit",
      "language": "python",
      "name": "python3"
    },
    "language_info": {
      "name": "python",
      "version": "3.8.10"
    },
    "vscode": {
      "interpreter": {
        "hash": "31f2aee4e71d21fbe5cf8b01ff0e069b9275f58929596ceb00d14d90e3e16cd6"
      }
    }
  },
  "nbformat": 4,
  "nbformat_minor": 0
}
