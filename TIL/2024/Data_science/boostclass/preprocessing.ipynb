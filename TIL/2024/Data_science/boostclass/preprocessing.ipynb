{
 "cells": [
  {
   "cell_type": "markdown",
   "metadata": {},
   "source": [
    "# 전처리 전체 과정\n",
    "\n",
    "[요약] 수치형 변수와 범주형 변수를 분리해서 생각\n",
    "1. 수치형 변수\n",
    "    a. \n"
   ]
  },
  {
   "cell_type": "code",
   "execution_count": null,
   "metadata": {},
   "outputs": [],
   "source": []
  }
 ],
 "metadata": {
  "language_info": {
   "name": "python"
  }
 },
 "nbformat": 4,
 "nbformat_minor": 2
}
