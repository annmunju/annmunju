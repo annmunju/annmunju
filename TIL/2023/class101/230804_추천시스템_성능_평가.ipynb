{
  "nbformat": 4,
  "nbformat_minor": 0,
  "metadata": {
    "colab": {
      "provenance": []
    },
    "kernelspec": {
      "name": "python3",
      "display_name": "Python 3"
    },
    "language_info": {
      "name": "python"
    }
  },
  "cells": [
    {
      "cell_type": "markdown",
      "source": [
        "# 개인별 추천 목록\n",
        "\n",
        "* 점수 기반 인기 영화 20개\n",
        "* 장르별 인기 영화 5개씩\n",
        "* 연도별 인기 영화 5개씩\n",
        "* 많이 시청한 영화 20개\n",
        "* 해당 유저의 연령대별 인기 영화 20개\n",
        "* 최근 시청한 5개 영화의 연관 영화 25개"
      ],
      "metadata": {
        "id": "OfLOdklv1wWh"
      }
    },
    {
      "cell_type": "code",
      "execution_count": 63,
      "metadata": {
        "colab": {
          "base_uri": "https://localhost:8080/"
        },
        "id": "GpOi_J_61pgj",
        "outputId": "176bc8b7-8a5b-4a34-8fde-2d54097e372d"
      },
      "outputs": [
        {
          "output_type": "stream",
          "name": "stdout",
          "text": [
            "Drive already mounted at /content/drive; to attempt to forcibly remount, call drive.mount(\"/content/drive\", force_remount=True).\n"
          ]
        }
      ],
      "source": [
        "from google.colab import drive\n",
        "drive.mount('/content/drive')\n",
        "\n",
        "# 불러오기\n",
        "import pandas as pd\n",
        "import pickle\n",
        "\n",
        "output_path = '/content/drive/MyDrive/2307_추천시스템_101/user_rec_dict_recent.pickle'\n",
        "\n",
        "with open(output_path, 'rb') as f:\n",
        "  user_result_dict = pickle.load(f)"
      ]
    },
    {
      "cell_type": "code",
      "source": [
        "movie_df = pd.read_csv('/content/drive/MyDrive/2307_추천시스템_101/movie_df.csv', index_col=0)\n",
        "user_df = pd.read_csv('/content/drive/MyDrive/2307_추천시스템_101/user_df.csv', index_col=0)\n",
        "rating_url = 'https://raw.githubusercontent.com/yoonkt200/python-data-analysis/master/data/ml-1m/ratings.dat'\n",
        "rating_df = pd.read_csv(rating_url, names=['user_id', 'movie_id', 'rating', 'time'], delimiter='::', engine ='python')\n",
        "rating_df.head()"
      ],
      "metadata": {
        "colab": {
          "base_uri": "https://localhost:8080/",
          "height": 206
        },
        "id": "V4co-WFb2uoQ",
        "outputId": "31461297-21d6-4174-cd46-6e1d20ba0005"
      },
      "execution_count": 64,
      "outputs": [
        {
          "output_type": "execute_result",
          "data": {
            "text/plain": [
              "   user_id  movie_id  rating       time\n",
              "0        1      1193       5  978300760\n",
              "1        1       661       3  978302109\n",
              "2        1       914       3  978301968\n",
              "3        1      3408       4  978300275\n",
              "4        1      2355       5  978824291"
            ],
            "text/html": [
              "\n",
              "\n",
              "  <div id=\"df-f2d76544-d801-467e-9728-907c342a601c\">\n",
              "    <div class=\"colab-df-container\">\n",
              "      <div>\n",
              "<style scoped>\n",
              "    .dataframe tbody tr th:only-of-type {\n",
              "        vertical-align: middle;\n",
              "    }\n",
              "\n",
              "    .dataframe tbody tr th {\n",
              "        vertical-align: top;\n",
              "    }\n",
              "\n",
              "    .dataframe thead th {\n",
              "        text-align: right;\n",
              "    }\n",
              "</style>\n",
              "<table border=\"1\" class=\"dataframe\">\n",
              "  <thead>\n",
              "    <tr style=\"text-align: right;\">\n",
              "      <th></th>\n",
              "      <th>user_id</th>\n",
              "      <th>movie_id</th>\n",
              "      <th>rating</th>\n",
              "      <th>time</th>\n",
              "    </tr>\n",
              "  </thead>\n",
              "  <tbody>\n",
              "    <tr>\n",
              "      <th>0</th>\n",
              "      <td>1</td>\n",
              "      <td>1193</td>\n",
              "      <td>5</td>\n",
              "      <td>978300760</td>\n",
              "    </tr>\n",
              "    <tr>\n",
              "      <th>1</th>\n",
              "      <td>1</td>\n",
              "      <td>661</td>\n",
              "      <td>3</td>\n",
              "      <td>978302109</td>\n",
              "    </tr>\n",
              "    <tr>\n",
              "      <th>2</th>\n",
              "      <td>1</td>\n",
              "      <td>914</td>\n",
              "      <td>3</td>\n",
              "      <td>978301968</td>\n",
              "    </tr>\n",
              "    <tr>\n",
              "      <th>3</th>\n",
              "      <td>1</td>\n",
              "      <td>3408</td>\n",
              "      <td>4</td>\n",
              "      <td>978300275</td>\n",
              "    </tr>\n",
              "    <tr>\n",
              "      <th>4</th>\n",
              "      <td>1</td>\n",
              "      <td>2355</td>\n",
              "      <td>5</td>\n",
              "      <td>978824291</td>\n",
              "    </tr>\n",
              "  </tbody>\n",
              "</table>\n",
              "</div>\n",
              "      <button class=\"colab-df-convert\" onclick=\"convertToInteractive('df-f2d76544-d801-467e-9728-907c342a601c')\"\n",
              "              title=\"Convert this dataframe to an interactive table.\"\n",
              "              style=\"display:none;\">\n",
              "\n",
              "  <svg xmlns=\"http://www.w3.org/2000/svg\" height=\"24px\"viewBox=\"0 0 24 24\"\n",
              "       width=\"24px\">\n",
              "    <path d=\"M0 0h24v24H0V0z\" fill=\"none\"/>\n",
              "    <path d=\"M18.56 5.44l.94 2.06.94-2.06 2.06-.94-2.06-.94-.94-2.06-.94 2.06-2.06.94zm-11 1L8.5 8.5l.94-2.06 2.06-.94-2.06-.94L8.5 2.5l-.94 2.06-2.06.94zm10 10l.94 2.06.94-2.06 2.06-.94-2.06-.94-.94-2.06-.94 2.06-2.06.94z\"/><path d=\"M17.41 7.96l-1.37-1.37c-.4-.4-.92-.59-1.43-.59-.52 0-1.04.2-1.43.59L10.3 9.45l-7.72 7.72c-.78.78-.78 2.05 0 2.83L4 21.41c.39.39.9.59 1.41.59.51 0 1.02-.2 1.41-.59l7.78-7.78 2.81-2.81c.8-.78.8-2.07 0-2.86zM5.41 20L4 18.59l7.72-7.72 1.47 1.35L5.41 20z\"/>\n",
              "  </svg>\n",
              "      </button>\n",
              "\n",
              "\n",
              "\n",
              "    <div id=\"df-1d5b8f2a-8ee8-41b8-b04b-ac3b3245e64c\">\n",
              "      <button class=\"colab-df-quickchart\" onclick=\"quickchart('df-1d5b8f2a-8ee8-41b8-b04b-ac3b3245e64c')\"\n",
              "              title=\"Suggest charts.\"\n",
              "              style=\"display:none;\">\n",
              "\n",
              "<svg xmlns=\"http://www.w3.org/2000/svg\" height=\"24px\"viewBox=\"0 0 24 24\"\n",
              "     width=\"24px\">\n",
              "    <g>\n",
              "        <path d=\"M19 3H5c-1.1 0-2 .9-2 2v14c0 1.1.9 2 2 2h14c1.1 0 2-.9 2-2V5c0-1.1-.9-2-2-2zM9 17H7v-7h2v7zm4 0h-2V7h2v10zm4 0h-2v-4h2v4z\"/>\n",
              "    </g>\n",
              "</svg>\n",
              "      </button>\n",
              "    </div>\n",
              "\n",
              "<style>\n",
              "  .colab-df-quickchart {\n",
              "    background-color: #E8F0FE;\n",
              "    border: none;\n",
              "    border-radius: 50%;\n",
              "    cursor: pointer;\n",
              "    display: none;\n",
              "    fill: #1967D2;\n",
              "    height: 32px;\n",
              "    padding: 0 0 0 0;\n",
              "    width: 32px;\n",
              "  }\n",
              "\n",
              "  .colab-df-quickchart:hover {\n",
              "    background-color: #E2EBFA;\n",
              "    box-shadow: 0px 1px 2px rgba(60, 64, 67, 0.3), 0px 1px 3px 1px rgba(60, 64, 67, 0.15);\n",
              "    fill: #174EA6;\n",
              "  }\n",
              "\n",
              "  [theme=dark] .colab-df-quickchart {\n",
              "    background-color: #3B4455;\n",
              "    fill: #D2E3FC;\n",
              "  }\n",
              "\n",
              "  [theme=dark] .colab-df-quickchart:hover {\n",
              "    background-color: #434B5C;\n",
              "    box-shadow: 0px 1px 3px 1px rgba(0, 0, 0, 0.15);\n",
              "    filter: drop-shadow(0px 1px 2px rgba(0, 0, 0, 0.3));\n",
              "    fill: #FFFFFF;\n",
              "  }\n",
              "</style>\n",
              "\n",
              "    <script>\n",
              "      async function quickchart(key) {\n",
              "        const containerElement = document.querySelector('#' + key);\n",
              "        const charts = await google.colab.kernel.invokeFunction(\n",
              "            'suggestCharts', [key], {});\n",
              "      }\n",
              "    </script>\n",
              "\n",
              "      <script>\n",
              "\n",
              "function displayQuickchartButton(domScope) {\n",
              "  let quickchartButtonEl =\n",
              "    domScope.querySelector('#df-1d5b8f2a-8ee8-41b8-b04b-ac3b3245e64c button.colab-df-quickchart');\n",
              "  quickchartButtonEl.style.display =\n",
              "    google.colab.kernel.accessAllowed ? 'block' : 'none';\n",
              "}\n",
              "\n",
              "        displayQuickchartButton(document);\n",
              "      </script>\n",
              "      <style>\n",
              "    .colab-df-container {\n",
              "      display:flex;\n",
              "      flex-wrap:wrap;\n",
              "      gap: 12px;\n",
              "    }\n",
              "\n",
              "    .colab-df-convert {\n",
              "      background-color: #E8F0FE;\n",
              "      border: none;\n",
              "      border-radius: 50%;\n",
              "      cursor: pointer;\n",
              "      display: none;\n",
              "      fill: #1967D2;\n",
              "      height: 32px;\n",
              "      padding: 0 0 0 0;\n",
              "      width: 32px;\n",
              "    }\n",
              "\n",
              "    .colab-df-convert:hover {\n",
              "      background-color: #E2EBFA;\n",
              "      box-shadow: 0px 1px 2px rgba(60, 64, 67, 0.3), 0px 1px 3px 1px rgba(60, 64, 67, 0.15);\n",
              "      fill: #174EA6;\n",
              "    }\n",
              "\n",
              "    [theme=dark] .colab-df-convert {\n",
              "      background-color: #3B4455;\n",
              "      fill: #D2E3FC;\n",
              "    }\n",
              "\n",
              "    [theme=dark] .colab-df-convert:hover {\n",
              "      background-color: #434B5C;\n",
              "      box-shadow: 0px 1px 3px 1px rgba(0, 0, 0, 0.15);\n",
              "      filter: drop-shadow(0px 1px 2px rgba(0, 0, 0, 0.3));\n",
              "      fill: #FFFFFF;\n",
              "    }\n",
              "  </style>\n",
              "\n",
              "      <script>\n",
              "        const buttonEl =\n",
              "          document.querySelector('#df-f2d76544-d801-467e-9728-907c342a601c button.colab-df-convert');\n",
              "        buttonEl.style.display =\n",
              "          google.colab.kernel.accessAllowed ? 'block' : 'none';\n",
              "\n",
              "        async function convertToInteractive(key) {\n",
              "          const element = document.querySelector('#df-f2d76544-d801-467e-9728-907c342a601c');\n",
              "          const dataTable =\n",
              "            await google.colab.kernel.invokeFunction('convertToInteractive',\n",
              "                                                     [key], {});\n",
              "          if (!dataTable) return;\n",
              "\n",
              "          const docLinkHtml = 'Like what you see? Visit the ' +\n",
              "            '<a target=\"_blank\" href=https://colab.research.google.com/notebooks/data_table.ipynb>data table notebook</a>'\n",
              "            + ' to learn more about interactive tables.';\n",
              "          element.innerHTML = '';\n",
              "          dataTable['output_type'] = 'display_data';\n",
              "          await google.colab.output.renderOutput(dataTable, element);\n",
              "          const docLink = document.createElement('div');\n",
              "          docLink.innerHTML = docLinkHtml;\n",
              "          element.appendChild(docLink);\n",
              "        }\n",
              "      </script>\n",
              "    </div>\n",
              "  </div>\n"
            ]
          },
          "metadata": {},
          "execution_count": 64
        }
      ]
    },
    {
      "cell_type": "markdown",
      "source": [
        "## 시간대 기반 테스트 데이터 셋 생성"
      ],
      "metadata": {
        "id": "BtZp04mR3Iy_"
      }
    },
    {
      "cell_type": "code",
      "source": [
        "split_bound = rating_df['time'].quantile(q=0.8)\n",
        "test_df = rating_df[rating_df['time'] >= split_bound]"
      ],
      "metadata": {
        "id": "8ZcZaGLF28c4"
      },
      "execution_count": 65,
      "outputs": []
    },
    {
      "cell_type": "code",
      "source": [
        "user_test_watch_list = test_df.groupby('user_id')['movie_id'].apply(set)"
      ],
      "metadata": {
        "id": "VKCkwLF23X5b"
      },
      "execution_count": 66,
      "outputs": []
    },
    {
      "cell_type": "code",
      "source": [
        "user_test_watch_list"
      ],
      "metadata": {
        "colab": {
          "base_uri": "https://localhost:8080/"
        },
        "id": "M5xJ5ndi3epj",
        "outputId": "7b07f45b-4966-4b6b-f2bd-421ae2809cce"
      },
      "execution_count": 67,
      "outputs": [
        {
          "output_type": "execute_result",
          "data": {
            "text/plain": [
              "user_id\n",
              "1       {1, 2692, 260, 1028, 1287, 1029, 1545, 1035, 5...\n",
              "2       {1537, 515, 1544, 2571, 1552, 2067, 21, 3095, ...\n",
              "3       {260, 648, 1291, 653, 1431, 1304, 1049, 3868, ...\n",
              "4       {2947, 260, 2692, 2951, 3468, 1036, 1954, 1196...\n",
              "5       {2560, 515, 6, 3079, 3081, 2058, 3083, 2571, 1...\n",
              "                              ...                        \n",
              "6001    {132, 1036, 1552, 1683, 1687, 3481, 1438, 3751...\n",
              "6002    {2946, 2819, 2947, 2948, 902, 1927, 2949, 1161...\n",
              "6016    {2944, 900, 3336, 2062, 2704, 2065, 914, 2962,...\n",
              "6028                                               {3000}\n",
              "6040    {1921, 1673, 2571, 2575, 2068, 1947, 161, 3362...\n",
              "Name: movie_id, Length: 1783, dtype: object"
            ]
          },
          "metadata": {},
          "execution_count": 67
        }
      ]
    },
    {
      "cell_type": "markdown",
      "source": [
        "## 평가 계획 수립\n",
        "\n",
        "- 예상 선호 리스트와 실제 시청 리스트로 MAP@K, Recall@K 계산\n",
        "  - MAP : Mean Average Precision. 각 유저별 precision을 계산한 뒤 모든 추천 대상 유저로 확장해 평균적인 지표로 계산.\n",
        "  - Recall : 각 유저별 Recall을 계산한 뒤 모든 추천 대상 유저로 확장해 평균적인 지표로 계산.\n",
        "  \n",
        "[가설]\n",
        "유저 A가 실제로 시청한 영화들을 a, 모델이 유저 A가 시청할 것이라고 예측한 영화들을 b라고 가정한다. 모델이 10개의 영화를 예측했다면 Top 10 Precision, recall을 계산한다.\n",
        "\n",
        "\n",
        "**단, 유저가 단순히 시청만 했다고 영화에 만족했다고 볼 수 없음. 추천 기준을 하나 더 적용**\n",
        "= 4점 이상인 경우 만족했다고 가정"
      ],
      "metadata": {
        "id": "nHx-xdqj3iHK"
      }
    },
    {
      "cell_type": "code",
      "source": [
        "user_test_like_list = test_df[test_df['rating']>=4].groupby('user_id')['movie_id'].apply(set)"
      ],
      "metadata": {
        "id": "g4bz9pTA3fyL"
      },
      "execution_count": 68,
      "outputs": []
    },
    {
      "cell_type": "code",
      "source": [
        "user_test_like_list"
      ],
      "metadata": {
        "colab": {
          "base_uri": "https://localhost:8080/"
        },
        "id": "xrUQ773mIOKd",
        "outputId": "c6d7f66d-67c6-4855-cd39-609b935dcab6"
      },
      "execution_count": 69,
      "outputs": [
        {
          "output_type": "execute_result",
          "data": {
            "text/plain": [
              "user_id\n",
              "1       {1, 2692, 260, 1028, 1287, 1029, 1545, 1035, 5...\n",
              "2       {1537, 515, 3334, 648, 1544, 265, 2571, 3468, ...\n",
              "3       {260, 1291, 653, 1304, 1049, 2081, 2470, 552, ...\n",
              "4       {480, 2366, 1954, 2947, 260, 2692, 2951, 1097,...\n",
              "5       {2560, 515, 3083, 2571, 2580, 1046, 29, 32, 34...\n",
              "                              ...                        \n",
              "6001    {481, 965, 3751, 2600, 457, 2346, 3947, 3147, ...\n",
              "6002    {2946, 2819, 2947, 2948, 2949, 1927, 1419, 909...\n",
              "6016    {930, 3685, 1639, 3245, 339, 3894, 3129, 3834,...\n",
              "6028                                               {3000}\n",
              "6040    {1921, 1673, 2571, 2575, 2068, 1947, 3362, 272...\n",
              "Name: movie_id, Length: 1762, dtype: object"
            ]
          },
          "metadata": {},
          "execution_count": 69
        }
      ]
    },
    {
      "cell_type": "markdown",
      "source": [
        "user_result_dict에 최근 본 선호 영화 목록 추가"
      ],
      "metadata": {
        "id": "Ghl5kGolI0Jb"
      }
    },
    {
      "cell_type": "code",
      "source": [
        "has_rec_user_cnt = 0\n",
        "\n",
        "for user, liked_movies in user_test_like_list.iteritems():\n",
        "  if user in user_result_dict.keys():\n",
        "    user_result_dict[user]['liked_movies'] = liked_movies\n",
        "    has_rec_user_cnt += 1\n",
        "\n",
        "print(has_rec_user_cnt)"
      ],
      "metadata": {
        "colab": {
          "base_uri": "https://localhost:8080/"
        },
        "id": "FLzgmQTqIyXM",
        "outputId": "048dbfe2-51f4-467e-f4b1-1c88a26a2424"
      },
      "execution_count": 70,
      "outputs": [
        {
          "output_type": "stream",
          "name": "stdout",
          "text": [
            "1762\n"
          ]
        },
        {
          "output_type": "stream",
          "name": "stderr",
          "text": [
            "<ipython-input-70-baef8eed1d41>:3: FutureWarning: iteritems is deprecated and will be removed in a future version. Use .items instead.\n",
            "  for user, liked_movies in user_test_like_list.iteritems():\n"
          ]
        }
      ]
    },
    {
      "cell_type": "code",
      "source": [
        "user_result_dict = pd.DataFrame(user_result_dict).T.rename({'recent_watch_association_recommendations': 'recent_watch'}, axis=1).T.to_dict()"
      ],
      "metadata": {
        "id": "b7IA9Es-Oftr"
      },
      "execution_count": 71,
      "outputs": []
    },
    {
      "cell_type": "markdown",
      "source": [
        "## Top K MAP, Recall 계산하기\n",
        "\n",
        "[계산할 대상]\n",
        "- 'age'\n",
        "- 'high_score'\n",
        "- 'genre'\n",
        "- 'year'\n",
        "- 'high_view'\n",
        "- 'total_recommendations'\n",
        "\n",
        "[비교 대상]\n",
        "- 'liked_movies'"
      ],
      "metadata": {
        "id": "tcuFqSekIgNF"
      }
    },
    {
      "cell_type": "code",
      "source": [
        "test_user_id = 1\n",
        "column = 'high_score'\n",
        "top_k = 30"
      ],
      "metadata": {
        "id": "cnuuUqzvLjVr"
      },
      "execution_count": 86,
      "outputs": []
    },
    {
      "cell_type": "code",
      "source": [
        "def valid_recommend(test_user_id, column, k):\n",
        "  predict_topk_list = list(user_result_dict[test_user_id][column])[:k] # 예측\n",
        "  prefer_test = user_result_dict[test_user_id]['liked_movies'] # 실제\n",
        "\n",
        "  if type(prefer_test) == float:\n",
        "    return 0, 0\n",
        "\n",
        "  prefer_test_list = list(prefer_test)\n",
        "  true_positive = [pv for pv in predict_topk_list if pv in prefer_test_list]\n",
        "  precision = len(true_positive) / len(predict_topk_list)\n",
        "  recall = len(true_positive) / len(prefer_test_list)\n",
        "\n",
        "  return precision, recall\n",
        ""
      ],
      "metadata": {
        "id": "AJAcNSSkJ_5f"
      },
      "execution_count": 185,
      "outputs": []
    },
    {
      "cell_type": "code",
      "source": [
        "import matplotlib.pyplot as plt\n",
        "\n",
        "def draw_valid_graph(test_user_id, column, top_k, show='both'):\n",
        "  p_ls, r_ls = [], []\n",
        "  for k in range(1, top_k):\n",
        "    p, r = valid_recommend(test_user_id, column, k)\n",
        "    p_ls.append(p)\n",
        "    r_ls.append(r)\n",
        "  if show == 'precision':\n",
        "    plt.plot(range(1, top_k), p_ls)\n",
        "  elif show == 'recall':\n",
        "    plt.plot(range(1, top_k), r_ls)\n",
        "  else:\n",
        "    plt.plot(range(1, top_k), p_ls)\n",
        "    plt.plot(range(1, top_k), r_ls)"
      ],
      "metadata": {
        "id": "NOo9qie_RHyU"
      },
      "execution_count": 186,
      "outputs": []
    },
    {
      "cell_type": "code",
      "source": [
        "import numpy as np"
      ],
      "metadata": {
        "id": "fzkJTIfaWbMI"
      },
      "execution_count": 187,
      "outputs": []
    },
    {
      "cell_type": "code",
      "source": [
        "def find_best_recommend_result(test_user_id, top_k_min=10, top_k_max=30):\n",
        "  cols = ['age', 'high_score', 'genre', 'year', 'high_view', 'total_recommendations']\n",
        "\n",
        "  cols_best_result = {}\n",
        "  for c in cols:\n",
        "    precision_ls = [valid_recommend(test_user_id, c, i)[0] for i in range(top_k_min,top_k_max)]\n",
        "    recall_ls = [valid_recommend(test_user_id, c, i)[1] for i in range(top_k_min,top_k_max)]\n",
        "\n",
        "    cols_best_result[c] = {}\n",
        "    cols_best_result[c]['best_precision_k'] = top_k_min+np.argmax(precision_ls)\n",
        "    cols_best_result[c]['best_precision_result'] = precision_ls[np.argmax(precision_ls)] # k개 추천했을때, 가장 높은 정밀도\n",
        "    cols_best_result[c]['best_recall_k'] = top_k_min+np.argmax(recall_ls)\n",
        "    cols_best_result[c]['best_recall_result'] = precision_ls[np.argmax(recall_ls)] # k개 추천했을때, 가장 높은 재현율\n",
        "\n",
        "  return cols_best_result"
      ],
      "metadata": {
        "id": "WAeVYpuTVLyK"
      },
      "execution_count": 199,
      "outputs": []
    },
    {
      "cell_type": "markdown",
      "source": [
        "### 전체 성능 평가"
      ],
      "metadata": {
        "id": "eg_Z2eC2YlQy"
      }
    },
    {
      "cell_type": "markdown",
      "source": [
        "컬럼 별 전체 성능 평가 평균 보기"
      ],
      "metadata": {
        "id": "2IZmmgTXY_ib"
      }
    },
    {
      "cell_type": "code",
      "source": [
        "def get_mean_result_by_column(column, eval='both'):\n",
        "  precision_result, recall_result = 0, 0\n",
        "  nan_cnt = 0\n",
        "\n",
        "  for user_id in user_result_dict.keys():\n",
        "    user_df = pd.DataFrame(find_best_recommend_result(user_id)).T\n",
        "    pr = user_df.loc[column]['best_precision_result']\n",
        "    rr = user_df.loc[column]['best_recall_result']\n",
        "\n",
        "    if pr == 0 and rr == 0:\n",
        "      nan_cnt += 1\n",
        "\n",
        "    else:\n",
        "      precision_result += pr\n",
        "      recall_result += rr\n",
        "\n",
        "  eval_user_cnt = len(user_result_dict.keys())-nan_cnt\n",
        "\n",
        "  if eval == 'precision':\n",
        "    if eval_user_cnt == 0:\n",
        "      return 0\n",
        "    else:\n",
        "      return precision_result / eval_user_cnt\n",
        "\n",
        "  elif eval == 'recall':\n",
        "    if eval_user_cnt == 0:\n",
        "      return 0\n",
        "    else:\n",
        "      return recall_result / eval_user_cnt\n",
        "\n",
        "  else:\n",
        "    if eval_user_cnt == 0:\n",
        "      return 0, 0\n",
        "    else:\n",
        "      return precision_result / eval_user_cnt, recall_result / eval_user_cnt"
      ],
      "metadata": {
        "id": "SGVm6JcRWNxG"
      },
      "execution_count": 212,
      "outputs": []
    },
    {
      "cell_type": "code",
      "source": [
        "cols = ['age', 'high_score', 'genre', 'year', 'high_view', 'total_recommendations']"
      ],
      "metadata": {
        "id": "_p4i8pNJctZA"
      },
      "execution_count": 213,
      "outputs": []
    },
    {
      "cell_type": "code",
      "source": [
        "for c in ['genre', 'year']:\n",
        "  # try:\n",
        "  p, r = get_mean_result_by_column(c)\n",
        "  print(c, '평균')\n",
        "  print('-'*30)\n",
        "  print('정밀도:', p)\n",
        "  print('재현율:', r)\n",
        "  print()\n",
        "\n",
        "  # except Exception as e:\n",
        "  #   print(c, '평가 중 오류 발생')"
      ],
      "metadata": {
        "id": "3EYuz5OIYw9_"
      },
      "execution_count": null,
      "outputs": []
    },
    {
      "cell_type": "code",
      "source": [],
      "metadata": {
        "id": "-fT4330Da_tO"
      },
      "execution_count": null,
      "outputs": []
    }
  ]
}