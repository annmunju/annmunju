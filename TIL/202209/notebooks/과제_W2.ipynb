{
 "cells": [
  {
   "cell_type": "markdown",
   "metadata": {},
   "source": [
    "# Linear Regression : 선형 회귀"
   ]
  },
  {
   "cell_type": "markdown",
   "metadata": {},
   "source": [
    "### Module Import"
   ]
  },
  {
   "cell_type": "code",
   "execution_count": 4,
   "metadata": {},
   "outputs": [],
   "source": [
    "import numpy as np\n",
    "import matplotlib.pyplot as plt\n",
    "from W2_resource.utils import *\n",
    "import copy\n",
    "import math\n",
    "%matplotlib inline\n",
    "\n",
    "from matplotlib import rc\n",
    "rc('font', family='AppleGothic')\n",
    "plt.rcParams['axes.unicode_minus'] = False"
   ]
  },
  {
   "cell_type": "code",
   "execution_count": 5,
   "metadata": {},
   "outputs": [],
   "source": [
    "# load the dataset\n",
    "x_train, y_train = load_data()"
   ]
  },
  {
   "cell_type": "markdown",
   "metadata": {},
   "source": [
    "### 데이터 shape, type 보기"
   ]
  },
  {
   "cell_type": "code",
   "execution_count": 6,
   "metadata": {},
   "outputs": [
    {
     "name": "stdout",
     "output_type": "stream",
     "text": [
      "x_train 형태: (97,)\n",
      "y_train 형태: (97,)\n",
      "x_train Type: <class 'numpy.ndarray'>\n",
      "y_train Type: <class 'numpy.ndarray'>\n",
      "x_train 5개 미리보기: [6.1101 5.5277 8.5186 7.0032 5.8598]\n",
      "y_train 5개 미리보기: [17.592   9.1302 13.662  11.854   6.8233]\n"
     ]
    }
   ],
   "source": [
    "print(\"x_train 형태:\",x_train.shape)\n",
    "print(\"y_train 형태:\", y_train.shape)\n",
    "print(\"x_train Type:\",type(x_train))\n",
    "print(\"y_train Type:\",type(y_train))\n",
    "print(\"x_train 5개 미리보기:\", x_train[:5])\n",
    "print(\"y_train 5개 미리보기:\", y_train[:5])"
   ]
  },
  {
   "cell_type": "markdown",
   "metadata": {},
   "source": [
    "* 산점도 그리기\n",
    "    * marker 파라미터를 바꾸면 마커의 모양이 바뀜\n",
    "    * c 파라미터를 바꾸면 마커의 색상이 바뀜"
   ]
  },
  {
   "cell_type": "code",
   "execution_count": 7,
   "metadata": {},
   "outputs": [
    {
     "data": {
      "image/png": "[encoded data removed]",
      "text/plain": [
       "<Figure size 640x480 with 1 Axes>"
      ]
     },
     "metadata": {},
     "output_type": "display_data"
    }
   ],
   "source": [
    "plt.scatter(x_train, y_train, marker='^', c='pink') \n",
    "\n",
    "# plot 제목\n",
    "plt.title(\"수익과 인구수의 관계 그래프\")\n",
    "# y축 제목\n",
    "plt.ylabel('수익 (단위 $10,000)')\n",
    "# x축 제목\n",
    "plt.xlabel('인구수 (단위 10,000명)')\n",
    "plt.show()"
   ]
  },
  {
   "cell_type": "markdown",
   "metadata": {},
   "source": [
    "---\n",
    "\n",
    "## 비용함수 (Cost function) 계산하기\n",
    "\n",
    "### 1. 선형 회귀식 \n",
    "> 1차식 형태. 선형\n",
    "$$f_{wb}(x^{(i)}) =  wx^{(i)} + b$$\n",
    "\n",
    "### 2. 오차(=비용) 계산식 \n",
    "> 오차가 -, + 섞여 있으면 상쇄되어서 사라질 수 있으니까 제곱해주고 합해준다\n",
    "$$cost^{(i)} =  (f_{wb} - y^{(i)})^2$$\n",
    "\n",
    "### 3. 비용함수 \n",
    "> 오차 제곱합의 평균 * 2\n",
    "$$J(\\mathbf{w},b) = \\frac{1}{2m} \\sum\\limits_{i = 0}^{m-1} cost^{(i)}$$\n"
   ]
  },
  {
   "cell_type": "code",
   "execution_count": 8,
   "metadata": {},
   "outputs": [],
   "source": [
    "def compute_cost(x, y, w, b):\n",
    "    '''\n",
    "    선형 회귀를 위한 비용함수 계산\n",
    "\n",
    "    Args :\n",
    "        x (array) : (m,) 형태로 독립변수 (원인 - input) vector [...]\n",
    "        y (array) : (m,) 형태로 종속변수 (결과 - label) vector [...]\n",
    "        w, b (scalar) : cost 함수의 파라미터 \n",
    "\n",
    "    Returns :\n",
    "        total_cost (float) : j(w,b)의 값. \n",
    "                            모든 경우의 오차(error = cost = loss) 제곱의 총 합계 / m(개) * 2. \n",
    "                            오차 제곱의 평균.\n",
    "    '''\n",
    "    # 훈련 데이터의 개수 (examples의 수)\n",
    "    m = x.shape[0] \n",
    "\n",
    "    # 오차 제곱합\n",
    "    cost = 0\n",
    "    for i in range(m):\n",
    "        cost += ((w*x[i] + b) - y[i])**2 # (wx+b)-y : 예측값-실제값\n",
    "    \n",
    "    # 오차 제곱합의 평균 * 2 (2를 곱하는건 차후에 경사하강법 계산을 용이하게 하기 위해서)\n",
    "    total_cost = cost / (2*m)\n",
    "\n",
    "    return total_cost\n"
   ]
  },
  {
   "cell_type": "code",
   "execution_count": 9,
   "metadata": {},
   "outputs": [
    {
     "name": "stdout",
     "output_type": "stream",
     "text": [
      "<class 'numpy.float64'>\n",
      "Cost at initial w: 75.203\n",
      "\u001b[92mAll tests passed!\n"
     ]
    }
   ],
   "source": [
    "initial_w = 2\n",
    "initial_b = 1\n",
    "\n",
    "cost = compute_cost(x_train, y_train, initial_w, initial_b)\n",
    "print(type(cost))\n",
    "print(f'Cost at initial w: {cost:.3f}')\n",
    "\n",
    "# Public tests\n",
    "from W2_resource.public_tests import *\n",
    "compute_cost_test(compute_cost)"
   ]
  },
  {
   "cell_type": "markdown",
   "metadata": {},
   "source": [
    "---\n",
    "\n",
    "## 경사하강법 계산하기\n",
    "\n",
    "### 1. 파라미터 업데이트\n",
    "> w는 기울기, b는 y절편\n",
    ">\n",
    "> 경사하강법이란 1차식의 형태인 선형 회귀식의 기울기와 y절편을 계속 업데이트 해줘서 \n",
    ">\n",
    "> 최적의 값을 찾는 (=오차가 가장 적게 되는 w, b를 찾는) 방법\n",
    "\n",
    "$$\\begin{align*}& \\text{repeat until convergence:} \\; \\lbrace \\newline \\; & \\phantom {0000} b := b -  \\alpha \\frac{\\partial J(w,b)}{\\partial b} \\newline       \\; & \\phantom {0000} w := w -  \\alpha \\frac{\\partial J(w,b)}{\\partial w} \\tag{1}  \\; & \n",
    "\\newline & \\rbrace\\end{align*}$$\n",
    "\n",
    "* 해석\n",
    "    * 기존 w - Cost 함수를 w를 기준으로 편미분한 결과 -> 새로운 w 적용\n",
    "    *  기존 b - Cost 함수를 b를 기준으로 편미분한 결과 -> 새로운 b 적용\n",
    "    \n",
    "    -> 오차함수가 최소 지점이 될 때까지 반복"
   ]
  },
  {
   "cell_type": "code",
   "execution_count": 53,
   "metadata": {},
   "outputs": [],
   "source": [
    "def compute_gradient(x, y, w, b): \n",
    "    '''\n",
    "    비용을 최소로 하는 값을 찾기 위한 경사하강법\n",
    "\n",
    "    Args :\n",
    "        x (array) : (m,) 형태로 독립변수 (원인 - input) vector [...]\n",
    "        y (array) : (m,) 형태로 종속변수 (결과 - label) vector [...]\n",
    "        w, b (scalar) : 경사하강 함수의 파라미터 \n",
    "\n",
    "    Returns :\n",
    "        dj_dw (scalar) : 파라미터 w의 최적의 값\n",
    "        dj_db (scalar) : 파라미터 b의 최적의 값\n",
    "    '''\n",
    "\n",
    "    # 훈련 데이터의 개수 (examples의 수)\n",
    "    m = x.shape[0] \n",
    "\n",
    "    dj_dw = np.sum((((w*x+b)-y))*x)/m\n",
    "    dj_db = np.sum(((w*x) + b)-y)/m\n",
    "    \n",
    "    return dj_dw, dj_db"
   ]
  },
  {
   "cell_type": "code",
   "execution_count": 54,
   "metadata": {},
   "outputs": [
    {
     "name": "stdout",
     "output_type": "stream",
     "text": [
      "Gradient at initial w, b (zeros): -65.32884974555671 -5.839135051546393\n",
      "Using X with shape (4, 1)\n",
      "\u001b[92mAll tests passed!\n"
     ]
    }
   ],
   "source": [
    "# 0부터 시작하는 TEST\n",
    "initial_w = 0\n",
    "initial_b = 0\n",
    "\n",
    "tmp_dj_dw, tmp_dj_db = compute_gradient(x_train, y_train, initial_w, initial_b)\n",
    "print('Gradient at initial w, b (zeros):', tmp_dj_dw, tmp_dj_db)\n",
    "\n",
    "compute_gradient_test(compute_gradient)"
   ]
  },
  {
   "cell_type": "code",
   "execution_count": 55,
   "metadata": {},
   "outputs": [
    {
     "name": "stdout",
     "output_type": "stream",
     "text": [
      "Gradient at test w, b: -47.41610118114433 -4.007175051546392\n"
     ]
    }
   ],
   "source": [
    "# 0.2부터 시작하는 TEST\n",
    "test_w = 0.2\n",
    "test_b = 0.2\n",
    "tmp_dj_dw, tmp_dj_db = compute_gradient(x_train, y_train, test_w, test_b)\n",
    "\n",
    "print('Gradient at test w, b:', tmp_dj_dw, tmp_dj_db)"
   ]
  },
  {
   "cell_type": "markdown",
   "metadata": {},
   "source": [
    "### 배치 경사하강을 이용한 파라미터 학습\n",
    "\n",
    "> 배치 경사 하강을 이용해 한번에 모든 예제를 돌려 최적의 파라미터를 찾을 수 있다.\n",
    "- 경사 하강이 잘 작동되는지 확인하기 위해서는 $J(w,b)$를 확인해 매번 감소하는지 보면 된다.\n",
    "- 학습률 (learning rate)가 적절한 경우 $J(w,b)$는 계속 감소할 것이다."
   ]
  },
  {
   "cell_type": "code",
   "execution_count": 56,
   "metadata": {},
   "outputs": [],
   "source": [
    "def gradient_descent(x, y, w_in, b_in, cost_function, gradient_function, alpha, num_iters): \n",
    "    '''\n",
    "    Args:\n",
    "      x (array), y (array)\n",
    "      w_in, b_in (scalar)\n",
    "      cost_function: 정의된 비용함수\n",
    "      gradient_function: 정의된 경사하강 함수\n",
    "      alpha (float) : 학습률. Learning rate\n",
    "      num_iters (int) : 경사하강을 얼마나 반복할 것인지 횟수\n",
    "    Returns:\n",
    "      w (ndarray): 최종 업데이트 된 w값 전체\n",
    "      b (scalar): 최종 업데이트 된 b값\n",
    "    '''\n",
    "\n",
    "    m = len(x)\n",
    "\n",
    "    J_history = []\n",
    "    w_history = []\n",
    "    w = copy.deepcopy(w_in)  # 함수 내 w가 전역변수로 수정됨을 방지\n",
    "    b = b_in\n",
    "\n",
    "    for i in range(num_iters):\n",
    "\n",
    "        # 경사하강 계산 -> 파라미터 업데이트할 값 나옴\n",
    "        dj_dw, dj_db = gradient_function(x, y, w, b )  \n",
    "\n",
    "        # 기존 w,b 값에 업데이트할 값을 빼서 새로운 w,b 반영\n",
    "        w = w - alpha * dj_dw               \n",
    "        b = b - alpha * dj_db               \n",
    "\n",
    "        # 반복 작업 단축?\n",
    "        # Save cost J at each iteration\n",
    "        if i<100000:      # prevent resource exhaustion \n",
    "            cost =  cost_function(x, y, w, b)\n",
    "            J_history.append(cost)\n",
    "\n",
    "        # 10번 반복될 때마다 cost를 출력\n",
    "        if i% math.ceil(num_iters/10) == 0:\n",
    "            w_history.append(w)\n",
    "            print(f\"Iteration {i:4}: Cost {float(J_history[-1]):8.2f}   \")\n",
    "\n",
    "    return w, b, J_history, w_history"
   ]
  },
  {
   "cell_type": "code",
   "execution_count": 58,
   "metadata": {},
   "outputs": [
    {
     "name": "stdout",
     "output_type": "stream",
     "text": [
      "Iteration    0: Cost     6.74   \n",
      "Iteration  150: Cost     5.31   \n",
      "Iteration  300: Cost     4.96   \n",
      "Iteration  450: Cost     4.76   \n",
      "Iteration  600: Cost     4.64   \n",
      "Iteration  750: Cost     4.57   \n",
      "Iteration  900: Cost     4.53   \n",
      "Iteration 1050: Cost     4.51   \n",
      "Iteration 1200: Cost     4.50   \n",
      "Iteration 1350: Cost     4.49   \n",
      "경사 하강으로 찾은 w, b 값: 1.166362350335582 -3.6302914394043597\n"
     ]
    }
   ],
   "source": [
    "# initialize fitting parameters. Recall that the shape of w is (n,)\n",
    "initial_w = 0.\n",
    "initial_b = 0.\n",
    "\n",
    "# some gradient descent settings\n",
    "iterations = 1500\n",
    "alpha = 0.01\n",
    "\n",
    "w,b,_,_ = gradient_descent(x_train ,y_train, initial_w, initial_b, \n",
    "                     compute_cost, compute_gradient, alpha, iterations)\n",
    "print(\"경사 하강으로 찾은 w, b 값:\", w, b)"
   ]
  },
  {
   "cell_type": "markdown",
   "metadata": {},
   "source": [
    "### 최종 w, b 값을 반영한 Plot 그려보기"
   ]
  },
  {
   "cell_type": "code",
   "execution_count": 61,
   "metadata": {},
   "outputs": [],
   "source": [
    "m = x_train.shape[0]\n",
    "predicted = np.zeros(m)\n",
    "\n",
    "for i in range(m):\n",
    "    predicted[i] = w * x_train[i] + b"
   ]
  },
  {
   "cell_type": "code",
   "execution_count": 64,
   "metadata": {},
   "outputs": [
    {
     "data": {
      "image/png": "[encoded data removed]",
      "text/plain": [
       "<Figure size 640x480 with 1 Axes>"
      ]
     },
     "metadata": {},
     "output_type": "display_data"
    }
   ],
   "source": [
    "# Plot the linear fit\n",
    "plt.plot(x_train, predicted, c = \"r\")\n",
    "\n",
    "# Create a scatter plot of the data. \n",
    "plt.scatter(x_train, y_train, marker='^', c='pink') \n",
    "\n",
    "# plot 제목\n",
    "plt.title(\"수익과 인구수의 관계 그래프\")\n",
    "# y축 제목\n",
    "plt.ylabel('수익 (단위 $10,000)')\n",
    "# x축 제목\n",
    "plt.xlabel('인구수 (단위 10,000명)')\n",
    "plt.show()"
   ]
  },
  {
   "cell_type": "markdown",
   "metadata": {},
   "source": [
    "---\n",
    "\n",
    "### 선형회귀식을 이용해서 예측한 결과 확인해보기"
   ]
  },
  {
   "cell_type": "code",
   "execution_count": 65,
   "metadata": {},
   "outputs": [
    {
     "name": "stdout",
     "output_type": "stream",
     "text": [
      "인구수 = 35,000 일때, 우리가 예측한 이익은 $4519.77\n",
      "인구수 = 70,000 일때, 우리가 예측한 이익은 $45342.45\n"
     ]
    }
   ],
   "source": [
    "# 인구수가 3.5일때 수익은?\n",
    "predict1 = 3.5 * w + b\n",
    "print('인구수 = 35,000 일때, 우리가 예측한 이익은 $%.2f' % (predict1*10000))\n",
    "\n",
    "# 인구수가 7.0일때 수익은?\n",
    "predict2 = 7.0 * w + b\n",
    "print('인구수 = 70,000 일때, 우리가 예측한 이익은 $%.2f' % (predict2*10000))"
   ]
  }
 ],
 "metadata": {
  "kernelspec": {
   "display_name": "Python 3.9.12 ('color')",
   "language": "python",
   "name": "python3"
  },
  "language_info": {
   "codemirror_mode": {
    "name": "ipython",
    "version": 3
   },
   "file_extension": ".py",
   "mimetype": "text/x-python",
   "name": "python",
   "nbconvert_exporter": "python",
   "pygments_lexer": "ipython3",
   "version": "3.9.12"
  },
  "orig_nbformat": 4,
  "vscode": {
   "interpreter": {
    "hash": "3bec6d760bce769d35ca0ce98f5ea9a23b5eb35fdfe1ea019e6b335775606c88"
   }
  }
 },
 "nbformat": 4,
 "nbformat_minor": 2
}
