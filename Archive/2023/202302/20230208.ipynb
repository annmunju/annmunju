{
  "nbformat": 4,
  "nbformat_minor": 0,
  "metadata": {
    "colab": {
      "provenance": []
    },
    "kernelspec": {
      "name": "python3",
      "display_name": "Python 3"
    },
    "language_info": {
      "name": "python"
    }
  },
  "cells": [
    {
      "cell_type": "markdown",
      "source": [
        "## Tensorflow GradientTape"
      ],
      "metadata": {
        "id": "JXUzCH8z_xTe"
      }
    },
    {
      "cell_type": "code",
      "source": [
        "import tensorflow as tf"
      ],
      "metadata": {
        "id": "wlLqhsYO_tue"
      },
      "execution_count": 16,
      "outputs": []
    },
    {
      "cell_type": "code",
      "source": [
        "w = tf.Variable(3.0)"
      ],
      "metadata": {
        "id": "QVZRyPJl_6Ul"
      },
      "execution_count": 17,
      "outputs": []
    },
    {
      "cell_type": "code",
      "source": [
        "x = 1.0\n",
        "y = 1.0\n",
        "alpha = 0.01"
      ],
      "metadata": {
        "id": "vRo8PiDq_6EQ"
      },
      "execution_count": 18,
      "outputs": []
    },
    {
      "cell_type": "code",
      "source": [
        "iterations = 30"
      ],
      "metadata": {
        "id": "ZSvehV0K_51f"
      },
      "execution_count": 19,
      "outputs": []
    },
    {
      "cell_type": "code",
      "source": [
        "for _ in range(iterations):\n",
        "  with tf.GradientTape() as tape:\n",
        "    fwb = w * x\n",
        "    costJ = (fwb - y) ** 2\n",
        "  \n",
        "  [dJdw] = tape.gradient(costJ, [w])\n",
        "\n",
        "  w.assign_add(-alpha * dJdw)"
      ],
      "metadata": {
        "id": "vzOMnQox_5me"
      },
      "execution_count": 20,
      "outputs": []
    },
    {
      "cell_type": "markdown",
      "source": [
        "---\n",
        "\n",
        "### use optimizer"
      ],
      "metadata": {
        "id": "nJ6EdOmSCQQx"
      }
    },
    {
      "cell_type": "code",
      "source": [
        "optimizer = tf.keras.optimizers.Adam(learning_rate = 1e-1)"
      ],
      "metadata": {
        "id": "WuqnWYBL_5XL"
      },
      "execution_count": 28,
      "outputs": []
    },
    {
      "cell_type": "markdown",
      "source": [
        "cost function 을 잘 짜두어야 협업필터링에서 (x, y, b) 업데이트를 한번에 할 수 있음\n",
        "<-> model.fit() 으로는 할 수 없음"
      ],
      "metadata": {
        "id": "xu9e7khWCws7"
      }
    },
    {
      "cell_type": "code",
      "source": [],
      "metadata": {
        "id": "fSl5rDwp_tD3"
      },
      "execution_count": null,
      "outputs": []
    },
    {
      "cell_type": "code",
      "execution_count": null,
      "metadata": {
        "id": "HJP0XwVn_q5b"
      },
      "outputs": [],
      "source": []
    }
  ]
}