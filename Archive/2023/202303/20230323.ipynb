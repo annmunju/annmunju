{
  "cells": [
    {
      "cell_type": "code",
      "execution_count": 2,
      "metadata": {
        "id": "Z8tefM-ANY8P"
      },
      "outputs": [],
      "source": [
        "import numpy as np\n",
        "import matplotlib.pyplot as plt\n",
        "from sklearn.decomposition import PCA"
      ]
    },
    {
      "cell_type": "code",
      "execution_count": 4,
      "metadata": {
        "id": "NuVt81YANdKm"
      },
      "outputs": [],
      "source": [
        "x = np.array([\n",
        "    [1, 1],\n",
        "    [2, 1], \n",
        "    [3, 2],\n",
        "    [-1, -1],\n",
        "    [-2, -1],\n",
        "    [-3, -2]\n",
        "])"
      ]
    },
    {
      "cell_type": "code",
      "execution_count": 7,
      "metadata": {
        "colab": {
          "base_uri": "https://localhost:8080/",
          "height": 283
        },
        "id": "wHRNXWx6NxU9",
        "outputId": "95524c3a-10ce-4195-add4-eadc2ba64ab1"
      },
      "outputs": [
        {
          "data": {
            "text/plain": [
              "<matplotlib.collections.PathCollection at 0x7fa5555c63d0>"
            ]
          },
          "execution_count": 7,
          "metadata": {},
          "output_type": "execute_result"
        },
        {
          "data": {
            "image/png": "[encoded data removed]",
            "text/plain": [
              "<Figure size 432x288 with 1 Axes>"
            ]
          },
          "metadata": {
            "needs_background": "light"
          },
          "output_type": "display_data"
        }
      ],
      "source": [
        "plt.scatter(x[:,0], x[:,1])"
      ]
    },
    {
      "cell_type": "code",
      "execution_count": 27,
      "metadata": {
        "colab": {
          "base_uri": "https://localhost:8080/"
        },
        "id": "XrcjkAzyOAuo",
        "outputId": "7c74e97a-87f2-44ec-bb75-71b39942adf1"
      },
      "outputs": [
        {
          "data": {
            "text/plain": [
              "array([0.99244289])"
            ]
          },
          "execution_count": 27,
          "metadata": {},
          "output_type": "execute_result"
        }
      ],
      "source": [
        "pca_1 = PCA(n_components=1)\n",
        "pca_1.fit(x)\n",
        "pca_1.explained_variance_ratio_"
      ]
    },
    {
      "cell_type": "code",
      "execution_count": 28,
      "metadata": {
        "colab": {
          "base_uri": "https://localhost:8080/"
        },
        "id": "R-8ZPoeXONSt",
        "outputId": "b2c0883a-8fe0-4792-b908-18f1ac5f7b92"
      },
      "outputs": [
        {
          "data": {
            "text/plain": [
              "array([[0.83849224, 0.54491354]])"
            ]
          },
          "execution_count": 28,
          "metadata": {},
          "output_type": "execute_result"
        }
      ],
      "source": [
        "pca_1.components_"
      ]
    },
    {
      "cell_type": "code",
      "execution_count": 30,
      "metadata": {
        "colab": {
          "base_uri": "https://localhost:8080/",
          "height": 283
        },
        "id": "bpTO-YrHOVrS",
        "outputId": "7e33fbe5-36d4-4061-9182-14e9ee56200a"
      },
      "outputs": [
        {
          "data": {
            "text/plain": [
              "[<matplotlib.lines.Line2D at 0x7fa55062bb50>]"
            ]
          },
          "execution_count": 30,
          "metadata": {},
          "output_type": "execute_result"
        },
        {
          "data": {
            "image/png": "[encoded data removed]",
            "text/plain": [
              "<Figure size 432x288 with 1 Axes>"
            ]
          },
          "metadata": {
            "needs_background": "light"
          },
          "output_type": "display_data"
        }
      ],
      "source": [
        "plt.scatter(x[:,0], x[:,1])\n",
        "plt.plot([0, pca_1.components_[0][0]], \n",
        "         [0, pca_1.components_[0][1]],\n",
        "         color='r')"
      ]
    },
    {
      "cell_type": "code",
      "execution_count": 31,
      "metadata": {
        "id": "Dus1d8vLO2t0"
      },
      "outputs": [],
      "source": [
        "X_trans_1 = pca_1.transform(x)"
      ]
    },
    {
      "cell_type": "code",
      "execution_count": 32,
      "metadata": {
        "id": "Cj6uTi-YPnVh"
      },
      "outputs": [],
      "source": [
        "x_reduce_1 = pca_1.inverse_transform(X_trans_1)"
      ]
    },
    {
      "cell_type": "code",
      "execution_count": 34,
      "metadata": {
        "colab": {
          "base_uri": "https://localhost:8080/"
        },
        "id": "JdxPlb-mPtkz",
        "outputId": "eab58f30-5aff-43a9-ea6f-61edaec24fc1"
      },
      "outputs": [
        {
          "data": {
            "text/plain": [
              "array([[ 1.15997501,  0.75383654],\n",
              "       [ 1.86304424,  1.21074232],\n",
              "       [ 3.02301925,  1.96457886],\n",
              "       [-1.15997501, -0.75383654],\n",
              "       [-1.86304424, -1.21074232],\n",
              "       [-3.02301925, -1.96457886]])"
            ]
          },
          "execution_count": 34,
          "metadata": {},
          "output_type": "execute_result"
        }
      ],
      "source": [
        "x_reduce_1"
      ]
    },
    {
      "cell_type": "code",
      "execution_count": 37,
      "metadata": {
        "colab": {
          "base_uri": "https://localhost:8080/",
          "height": 283
        },
        "id": "XZfF-SEaPuR9",
        "outputId": "b452de99-829f-469f-927b-5653d2a99a05"
      },
      "outputs": [
        {
          "data": {
            "text/plain": [
              "<matplotlib.collections.PathCollection at 0x7fa5505ec880>"
            ]
          },
          "execution_count": 37,
          "metadata": {},
          "output_type": "execute_result"
        },
        {
          "data": {
            "image/png": "[encoded data removed]",
            "text/plain": [
              "<Figure size 432x288 with 1 Axes>"
            ]
          },
          "metadata": {
            "needs_background": "light"
          },
          "output_type": "display_data"
        }
      ],
      "source": [
        "plt.scatter(x=X_trans_1, y=[0 for _ in range(len(X_trans_1))])"
      ]
    },
    {
      "cell_type": "code",
      "execution_count": 41,
      "metadata": {
        "colab": {
          "base_uri": "https://localhost:8080/",
          "height": 283
        },
        "id": "JjodDhONQIpH",
        "outputId": "d7b63d1b-0f0b-4942-9746-e89d5170dc8b"
      },
      "outputs": [
        {
          "data": {
            "text/plain": [
              "<matplotlib.collections.PathCollection at 0x7fa550463c70>"
            ]
          },
          "execution_count": 41,
          "metadata": {},
          "output_type": "execute_result"
        },
        {
          "data": {
            "image/png": "[encoded data removed]",
            "text/plain": [
              "<Figure size 432x288 with 1 Axes>"
            ]
          },
          "metadata": {
            "needs_background": "light"
          },
          "output_type": "display_data"
        }
      ],
      "source": [
        "plt.scatter(x[:,0], x[:,1])\n",
        "plt.plot([0, pca_1.components_[0][0]], \n",
        "         [0, pca_1.components_[0][1]],\n",
        "         color='gray')\n",
        "plt.scatter(x_reduce_1[:,0], x_reduce_1[:,1], color='r')"
      ]
    },
    {
      "cell_type": "code",
      "execution_count": null,
      "metadata": {
        "id": "iBhpu-g0QhXa"
      },
      "outputs": [],
      "source": []
    }
  ],
  "metadata": {
    "colab": {
      "provenance": []
    },
    "kernelspec": {
      "display_name": "Python 3",
      "name": "python3"
    },
    "language_info": {
      "name": "python",
      "version": "3.9.16"
    }
  },
  "nbformat": 4,
  "nbformat_minor": 0
}
