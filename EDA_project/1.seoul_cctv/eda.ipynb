{
 "cells": [
  {
   "cell_type": "markdown",
   "metadata": {},
   "source": [
    "# CCTV 데이터 살펴보기"
   ]
  },
  {
   "cell_type": "code",
   "execution_count": 9,
   "metadata": {},
   "outputs": [],
   "source": [
    "import pandas as pd\n",
    "import openpyxl"
   ]
  },
  {
   "cell_type": "code",
   "execution_count": 10,
   "metadata": {},
   "outputs": [],
   "source": [
    "data = pd.read_excel(\"/Users/anmunju/Documents/EDA_project/1.seoul_cctv/data/CCTVinfo.xlsx\")"
   ]
  },
  {
   "cell_type": "code",
   "execution_count": 21,
   "metadata": {},
   "outputs": [
    {
     "data": {
      "text/html": [
       "<div>\n",
       "<style scoped>\n",
       "    .dataframe tbody tr th:only-of-type {\n",
       "        vertical-align: middle;\n",
       "    }\n",
       "\n",
       "    .dataframe tbody tr th {\n",
       "        vertical-align: top;\n",
       "    }\n",
       "\n",
       "    .dataframe thead th {\n",
       "        text-align: right;\n",
       "    }\n",
       "</style>\n",
       "<table border=\"1\" class=\"dataframe\">\n",
       "  <thead>\n",
       "    <tr style=\"text-align: right;\">\n",
       "      <th></th>\n",
       "      <th>번호</th>\n",
       "      <th>관리기관명</th>\n",
       "      <th>소재지도로명주소</th>\n",
       "      <th>소재지지번주소</th>\n",
       "      <th>설치목적구분</th>\n",
       "      <th>카메라대수</th>\n",
       "      <th>카메라화소수</th>\n",
       "      <th>촬영방면정보</th>\n",
       "      <th>보관일수</th>\n",
       "      <th>설치연월</th>\n",
       "      <th>관리기관전화번호</th>\n",
       "      <th>WGS84위도</th>\n",
       "      <th>WGS84경도</th>\n",
       "      <th>데이터기준일자</th>\n",
       "    </tr>\n",
       "  </thead>\n",
       "  <tbody>\n",
       "    <tr>\n",
       "      <th>0</th>\n",
       "      <td>1</td>\n",
       "      <td>서울특별시 중랑구청</td>\n",
       "      <td>서울특별시 중랑구 면목로37길 58</td>\n",
       "      <td>NaN</td>\n",
       "      <td>생활방범</td>\n",
       "      <td>4</td>\n",
       "      <td>NaN</td>\n",
       "      <td>NaN</td>\n",
       "      <td>NaN</td>\n",
       "      <td>NaN</td>\n",
       "      <td>02-2094-0284</td>\n",
       "      <td>37.580045</td>\n",
       "      <td>127.083616</td>\n",
       "      <td>2020-05-06</td>\n",
       "    </tr>\n",
       "    <tr>\n",
       "      <th>1</th>\n",
       "      <td>2</td>\n",
       "      <td>서울특별시 중랑구청</td>\n",
       "      <td>서울특별시 중랑구 용마산로58길 35</td>\n",
       "      <td>NaN</td>\n",
       "      <td>생활방범</td>\n",
       "      <td>1</td>\n",
       "      <td>NaN</td>\n",
       "      <td>NaN</td>\n",
       "      <td>NaN</td>\n",
       "      <td>NaN</td>\n",
       "      <td>02-2094-0284</td>\n",
       "      <td>37.577972</td>\n",
       "      <td>127.093010</td>\n",
       "      <td>2020-05-06</td>\n",
       "    </tr>\n",
       "    <tr>\n",
       "      <th>2</th>\n",
       "      <td>3</td>\n",
       "      <td>서울특별시 중랑구청</td>\n",
       "      <td>서울특별시 중랑구 용마산로62길 14</td>\n",
       "      <td>NaN</td>\n",
       "      <td>생활방범</td>\n",
       "      <td>3</td>\n",
       "      <td>NaN</td>\n",
       "      <td>NaN</td>\n",
       "      <td>NaN</td>\n",
       "      <td>NaN</td>\n",
       "      <td>02-2094-0284</td>\n",
       "      <td>37.577256</td>\n",
       "      <td>127.083880</td>\n",
       "      <td>2020-05-06</td>\n",
       "    </tr>\n",
       "  </tbody>\n",
       "</table>\n",
       "</div>"
      ],
      "text/plain": [
       "   번호       관리기관명              소재지도로명주소 소재지지번주소 설치목적구분  카메라대수  카메라화소수 촬영방면정보  \\\n",
       "0   1  서울특별시 중랑구청   서울특별시 중랑구 면목로37길 58     NaN   생활방범      4     NaN    NaN   \n",
       "1   2  서울특별시 중랑구청  서울특별시 중랑구 용마산로58길 35     NaN   생활방범      1     NaN    NaN   \n",
       "2   3  서울특별시 중랑구청  서울특별시 중랑구 용마산로62길 14     NaN   생활방범      3     NaN    NaN   \n",
       "\n",
       "   보관일수 설치연월      관리기관전화번호    WGS84위도     WGS84경도     데이터기준일자  \n",
       "0   NaN  NaN  02-2094-0284  37.580045  127.083616  2020-05-06  \n",
       "1   NaN  NaN  02-2094-0284  37.577972  127.093010  2020-05-06  \n",
       "2   NaN  NaN  02-2094-0284  37.577256  127.083880  2020-05-06  "
      ]
     },
     "execution_count": 21,
     "metadata": {},
     "output_type": "execute_result"
    }
   ],
   "source": [
    "data.head(3)"
   ]
  },
  {
   "cell_type": "code",
   "execution_count": null,
   "metadata": {},
   "outputs": [],
   "source": []
  }
 ],
 "metadata": {
  "interpreter": {
   "hash": "e4cbebc300f70e19d607e123907d9d0990703cbd424908a3a53feeddd9a1c791"
  },
  "kernelspec": {
   "display_name": "Python 3.9.7 64-bit ('base': conda)",
   "language": "python",
   "name": "python3"
  },
  "language_info": {
   "codemirror_mode": {
    "name": "ipython",
    "version": 3
   },
   "file_extension": ".py",
   "mimetype": "text/x-python",
   "name": "python",
   "nbconvert_exporter": "python",
   "pygments_lexer": "ipython3",
   "version": "3.8.12"
  },
  "orig_nbformat": 4
 },
 "nbformat": 4,
 "nbformat_minor": 2
}
